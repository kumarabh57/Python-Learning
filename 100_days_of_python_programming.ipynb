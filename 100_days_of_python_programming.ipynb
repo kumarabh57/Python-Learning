{
 "cells": [
  {
   "cell_type": "code",
   "execution_count": 3,
   "metadata": {},
   "outputs": [],
   "source": [
    "from IPython.core.interactiveshell import InteractiveShell\n",
    "InteractiveShell.ast_node_interactivity = \"all\""
   ]
  },
  {
   "cell_type": "markdown",
   "metadata": {},
   "source": [
    "# PRINT FUNCTION"
   ]
  },
  {
   "cell_type": "code",
   "execution_count": 3,
   "metadata": {},
   "outputs": [
    {
     "name": "stdout",
     "output_type": "stream",
     "text": [
      "INDIA * PAKISTAN * MYANMAR * BHUTAN\n"
     ]
    }
   ],
   "source": [
    "print(\"INDIA\",\"PAKISTAN\",\"MYANMAR\",'BHUTAN',sep=' * ')"
   ]
  },
  {
   "cell_type": "code",
   "execution_count": 4,
   "metadata": {},
   "outputs": [
    {
     "name": "stdout",
     "output_type": "stream",
     "text": [
      "INDIA-PAKISTAN-MYANMAR-BHUTAN\n"
     ]
    }
   ],
   "source": [
    "print(\"INDIA\",\"PAKISTAN\",\"MYANMAR\",'BHUTAN',sep=\"-\")"
   ]
  },
  {
   "cell_type": "code",
   "execution_count": 5,
   "metadata": {},
   "outputs": [
    {
     "name": "stdout",
     "output_type": "stream",
     "text": [
      "INDIA/PAKISTAN/MYANMAR/BHUTAN\n",
      "AJAO YE BHI DEKH LO\n"
     ]
    }
   ],
   "source": [
    "print(\"INDIA\",\"PAKISTAN\",\"MYANMAR\",'BHUTAN',sep=\"/\")\n",
    "print(\"AJAO YE BHI DEKH LO\")"
   ]
  },
  {
   "cell_type": "code",
   "execution_count": 6,
   "metadata": {},
   "outputs": [
    {
     "name": "stdout",
     "output_type": "stream",
     "text": [
      "INDIA/PAKISTAN/MYANMAR/BHUTAN AJAO YE BHI DEKH LO\n"
     ]
    }
   ],
   "source": [
    "print(\"INDIA\",\"PAKISTAN\",\"MYANMAR\",'BHUTAN',sep=\"/\",end=\" \")\n",
    "print(\"AJAO YE BHI DEKH LO\")"
   ]
  },
  {
   "cell_type": "markdown",
   "metadata": {},
   "source": [
    "# DATATYPES\n",
    "- Basic(integer, float, boolean, string and complex)\n",
    "- Containers(Lists, Tuples, Sets and Dictionary)\n",
    "- User defined(Class)  "
   ]
  },
  {
   "cell_type": "code",
   "execution_count": 7,
   "metadata": {},
   "outputs": [
    {
     "name": "stdout",
     "output_type": "stream",
     "text": [
      "5\n",
      "1e-323 Min Limit\n",
      "1e+308 Max Limit\n",
      "True\n",
      "4.5015\n",
      "1.7e+308 Max Limit\n",
      "(4+5j)\n",
      "Me\n",
      "Myself\n",
      "Mere wala self\n"
     ]
    }
   ],
   "source": [
    "# integer\n",
    "print(5)\n",
    "print(1e-323, 'Min Limit')\n",
    "print(1e308, 'Max Limit')\n",
    "# bollean\n",
    "print(True)\n",
    "# float\n",
    "print(4.5015)\n",
    "print(1.7e308, 'Max Limit')\n",
    "# complex\n",
    "print(4+5j)\n",
    "# string\n",
    "print('Me')\n",
    "print(\"Myself\")\n",
    "print(\"\"\"Mere wala self\"\"\")"
   ]
  },
  {
   "cell_type": "code",
   "execution_count": 8,
   "metadata": {},
   "outputs": [
    {
     "name": "stdout",
     "output_type": "stream",
     "text": [
      "[1, 2, 3, 4, 5]\n",
      "(1, 2, 3, 4, 5)\n",
      "{1, 2, 3, 4, 5}\n",
      "{'Name': 'Abhishek', 'Age': 25, 'Gender': 'Male'}\n"
     ]
    }
   ],
   "source": [
    "# lists\n",
    "print([1,2,3,4,5])\n",
    "# tuples\n",
    "print((1,2,3,4,5))\n",
    "# sets\n",
    "print({1,2,3,5,4})\n",
    "# dictionary\n",
    "print({\n",
    "    \"Name\" : \"Abhishek\",\n",
    "    \"Age\" : 25,\n",
    "    \"Gender\" : \"Male\"\n",
    "})"
   ]
  },
  {
   "cell_type": "markdown",
   "metadata": {},
   "source": [
    "# COMMENTS\n",
    "- Single line Comments (#THIS IS MY NEW CODE)\n",
    "- Multi Line Comments   (---)"
   ]
  },
  {
   "cell_type": "markdown",
   "metadata": {},
   "source": [
    "# VARIABLES"
   ]
  },
  {
   "cell_type": "code",
   "execution_count": 9,
   "metadata": {},
   "outputs": [
    {
     "data": {
      "text/plain": [
       "'Abhishek'"
      ]
     },
     "execution_count": 9,
     "metadata": {},
     "output_type": "execute_result"
    }
   ],
   "source": [
    "name=\"Abhishek\"\n",
    "name"
   ]
  },
  {
   "cell_type": "markdown",
   "metadata": {},
   "source": [
    "- Dynamic Typing - It means directly defining a variable without specifing its datatype.\n",
    " (example - Python, PHP)\n",
    "- Static Typing - In this first we have to tell the datatype before defining  variable.\n",
    " (example - C, C++, Java) "
   ]
  },
  {
   "cell_type": "code",
   "execution_count": 10,
   "metadata": {},
   "outputs": [
    {
     "data": {
      "text/plain": [
       "5"
      ]
     },
     "execution_count": 10,
     "metadata": {},
     "output_type": "execute_result"
    }
   ],
   "source": [
    "a = 5\n",
    "a"
   ]
  },
  {
   "cell_type": "code",
   "execution_count": 11,
   "metadata": {},
   "outputs": [
    {
     "data": {
      "text/plain": [
       "'NAYA KAAM'"
      ]
     },
     "execution_count": 11,
     "metadata": {},
     "output_type": "execute_result"
    }
   ],
   "source": [
    "a = \"NAYA KAAM\"\n",
    "a"
   ]
  },
  {
   "cell_type": "code",
   "execution_count": 12,
   "metadata": {},
   "outputs": [
    {
     "data": {
      "text/plain": [
       "5.65"
      ]
     },
     "execution_count": 12,
     "metadata": {},
     "output_type": "execute_result"
    }
   ],
   "source": [
    "a = 5.65\n",
    "a"
   ]
  },
  {
   "cell_type": "markdown",
   "metadata": {},
   "source": [
    "- Dynamic Binding - Owerriting of variables irrespective of datatypes. (EXAMPLE- Python)\n",
    "- Static Binding - Owerriting of variables of a particular datatype. (EXAMPLE- C, C++, JAVA)"
   ]
  },
  {
   "cell_type": "code",
   "execution_count": 13,
   "metadata": {},
   "outputs": [
    {
     "name": "stdout",
     "output_type": "stream",
     "text": [
      "5\n",
      "6\n",
      "7\n"
     ]
    }
   ],
   "source": [
    "a=5;b=6;c=7\n",
    "print(a)\n",
    "print(b)\n",
    "print(c)"
   ]
  },
  {
   "cell_type": "code",
   "execution_count": 14,
   "metadata": {},
   "outputs": [
    {
     "name": "stdout",
     "output_type": "stream",
     "text": [
      "6\n",
      "7\n",
      "8\n"
     ]
    }
   ],
   "source": [
    "a,b,c=6,7,8\n",
    "print(a)\n",
    "print(b)\n",
    "print(c)"
   ]
  },
  {
   "cell_type": "code",
   "execution_count": 15,
   "metadata": {},
   "outputs": [
    {
     "name": "stdout",
     "output_type": "stream",
     "text": [
      "6\n",
      "6\n",
      "6\n"
     ]
    }
   ],
   "source": [
    "a=b=c=6\n",
    "print(a)\n",
    "print(b)\n",
    "print(c)"
   ]
  },
  {
   "cell_type": "code",
   "execution_count": 16,
   "metadata": {},
   "outputs": [
    {
     "data": {
      "text/plain": [
       "8"
      ]
     },
     "execution_count": 16,
     "metadata": {},
     "output_type": "execute_result"
    },
    {
     "data": {
      "text/plain": [
       "9"
      ]
     },
     "execution_count": 16,
     "metadata": {},
     "output_type": "execute_result"
    },
    {
     "data": {
      "text/plain": [
       "2"
      ]
     },
     "execution_count": 16,
     "metadata": {},
     "output_type": "execute_result"
    }
   ],
   "source": [
    "a=8;b=9;c=2\n",
    "a\n",
    "b\n",
    "c"
   ]
  },
  {
   "cell_type": "markdown",
   "metadata": {},
   "source": [
    "# Keywords"
   ]
  },
  {
   "cell_type": "code",
   "execution_count": 17,
   "metadata": {},
   "outputs": [
    {
     "name": "stdout",
     "output_type": "stream",
     "text": [
      "['False', 'None', 'True', 'and', 'as', 'assert', 'async', 'await', 'break', 'class', 'continue', 'def', 'del', 'elif', 'else', 'except', 'finally', 'for', 'from', 'global', 'if', 'import', 'in', 'is', 'lambda', 'nonlocal', 'not', 'or', 'pass', 'raise', 'return', 'try', 'while', 'with', 'yield']\n",
      " \n",
      "35 total keywords are in PYTHON.\n"
     ]
    }
   ],
   "source": [
    "from itertools import count\n",
    "import keyword\n",
    "print(keyword.kwlist)\n",
    "print(\" \")\n",
    "print(len(keyword.kwlist), \"total keywords are in PYTHON.\")"
   ]
  },
  {
   "cell_type": "markdown",
   "metadata": {},
   "source": [
    "# Identifiers"
   ]
  },
  {
   "cell_type": "markdown",
   "metadata": {},
   "source": [
    "- 1 Start with alphabet or _\n",
    "- 2 Never starts with numbers\n",
    "- 3 Contain numbers but not start with it\n",
    "- 4 keywords cannot be used for identifiers"
   ]
  },
  {
   "cell_type": "markdown",
   "metadata": {},
   "source": [
    "# Taking User Input and Type Conversion"
   ]
  },
  {
   "cell_type": "code",
   "execution_count": 17,
   "metadata": {},
   "outputs": [
    {
     "data": {
      "text/plain": [
       "'jay bum bhola'"
      ]
     },
     "execution_count": 17,
     "metadata": {},
     "output_type": "execute_result"
    }
   ],
   "source": [
    "input() # Always Takes input in string format"
   ]
  },
  {
   "cell_type": "code",
   "execution_count": 18,
   "metadata": {},
   "outputs": [
    {
     "name": "stdout",
     "output_type": "stream",
     "text": [
      "12 <class 'str'>\n",
      "25 <class 'str'>\n",
      "1225 <class 'str'>\n"
     ]
    }
   ],
   "source": [
    "from distutils.command.build_scripts import first_line_re\n",
    "\n",
    "\n",
    "firts_num = input(\"Enter the first number\") # SHIFT+TAB functions details\n",
    "second_num = input(\"Enter the second number\")\n",
    "sum = firts_num + second_num\n",
    "print(firts_num, type(firts_num))\n",
    "print(second_num, type(second_num))\n",
    "print(sum, type(sum))"
   ]
  },
  {
   "cell_type": "code",
   "execution_count": 19,
   "metadata": {},
   "outputs": [
    {
     "name": "stdout",
     "output_type": "stream",
     "text": [
      "13 <class 'int'>\n",
      "36 <class 'int'>\n",
      "49 <class 'int'>\n"
     ]
    }
   ],
   "source": [
    "firts_num = int(input(\"Enter the first number\"))\n",
    "second_num = int(input(\"Enter the second number\"))\n",
    "sum = firts_num + second_num\n",
    "print(firts_num, type(firts_num))\n",
    "print(second_num, type(second_num))\n",
    "print(sum, type(sum))"
   ]
  },
  {
   "cell_type": "code",
   "execution_count": 20,
   "metadata": {},
   "outputs": [
    {
     "name": "stdout",
     "output_type": "stream",
     "text": [
      "DATATYPE <class 'int'>\n",
      "DATATYPE <class 'float'>\n",
      "DATATYPE <class 'str'>\n",
      "DATATYPE <class 'bool'>\n",
      "DATATYPE <class 'complex'>\n"
     ]
    }
   ],
   "source": [
    "print(\"DATATYPE\", type(45))\n",
    "print(\"DATATYPE\", type(45.5))\n",
    "print(\"DATATYPE\", type('45'))\n",
    "print(\"DATATYPE\", type(True))\n",
    "print(\"DATATYPE\", type(4+9j))"
   ]
  },
  {
   "cell_type": "markdown",
   "metadata": {},
   "source": [
    "## Types of TypeConversion\n",
    "\n",
    "- implicit\n",
    "- explicit"
   ]
  },
  {
   "cell_type": "code",
   "execution_count": 21,
   "metadata": {},
   "outputs": [
    {
     "data": {
      "text/plain": [
       "89.9"
      ]
     },
     "execution_count": 21,
     "metadata": {},
     "output_type": "execute_result"
    },
    {
     "data": {
      "text/plain": [
       "(17+5j)"
      ]
     },
     "execution_count": 21,
     "metadata": {},
     "output_type": "execute_result"
    },
    {
     "data": {
      "text/plain": [
       "(7.79+8j)"
      ]
     },
     "execution_count": 21,
     "metadata": {},
     "output_type": "execute_result"
    }
   ],
   "source": [
    "4+85.9 # Here python will automatically add integer + float datatype and \n",
    "       # the end result is float which is done implicity by python\n",
    "8 + 9+5j\n",
    "7.24 + 0.55 + 0+8j"
   ]
  },
  {
   "cell_type": "code",
   "execution_count": 22,
   "metadata": {},
   "outputs": [
    {
     "data": {
      "text/plain": [
       "4"
      ]
     },
     "execution_count": 22,
     "metadata": {},
     "output_type": "execute_result"
    },
    {
     "data": {
      "text/plain": [
       "6.0"
      ]
     },
     "execution_count": 22,
     "metadata": {},
     "output_type": "execute_result"
    },
    {
     "data": {
      "text/plain": [
       "'45'"
      ]
     },
     "execution_count": 22,
     "metadata": {},
     "output_type": "execute_result"
    },
    {
     "data": {
      "text/plain": [
       "True"
      ]
     },
     "execution_count": 22,
     "metadata": {},
     "output_type": "execute_result"
    },
    {
     "data": {
      "text/plain": [
       "(1.98+0j)"
      ]
     },
     "execution_count": 22,
     "metadata": {},
     "output_type": "execute_result"
    },
    {
     "data": {
      "text/plain": [
       "['H', 'e', 'l', 'l', 'o', ' ', 'W', 'o', 'r', 'l', 'd']"
      ]
     },
     "execution_count": 22,
     "metadata": {},
     "output_type": "execute_result"
    },
    {
     "data": {
      "text/plain": [
       "{' ', '2', '4', '6', '8', 'H', 'W', 'd', 'e', 'l', 'o', 'r'}"
      ]
     },
     "execution_count": 22,
     "metadata": {},
     "output_type": "execute_result"
    },
    {
     "data": {
      "text/plain": [
       "('1',\n",
       " ',',\n",
       " '2',\n",
       " ',',\n",
       " '5',\n",
       " ',',\n",
       " '9',\n",
       " ',',\n",
       " \"'\",\n",
       " 'h',\n",
       " 'g',\n",
       " \"'\",\n",
       " ',',\n",
       " \"'\",\n",
       " 'p',\n",
       " 'j',\n",
       " 'h',\n",
       " \"'\")"
      ]
     },
     "execution_count": 22,
     "metadata": {},
     "output_type": "execute_result"
    }
   ],
   "source": [
    "int(4.5) # Here we converting float datatype into integer datatype explicitly\n",
    "float(6) # Here we converting int datatype into float datatype explicitly\n",
    "str(45) # Here we converting int datatype into str datatype explicitly\n",
    "bool(998) # Here we converting int datatype into boolean datatype explicitly\n",
    "complex(1.98) # Here we converting float datatype into complex datatype explicitly\n",
    "list(\"Hello World\") # Here we converting string datatype list integer datatype explicitly\n",
    "set(\"Hello World 2 4 6 8\") # Here we converting string datatype into set datatype explicitly\n",
    "tuple(\"1,2,5,9,'hg','pjh'\") # Here we converting mix datatype into tuple datatype explicitly"
   ]
  },
  {
   "cell_type": "code",
   "execution_count": 23,
   "metadata": {},
   "outputs": [
    {
     "data": {
      "text/plain": [
       "45.0"
      ]
     },
     "execution_count": 23,
     "metadata": {},
     "output_type": "execute_result"
    },
    {
     "data": {
      "text/plain": [
       "45"
      ]
     },
     "execution_count": 23,
     "metadata": {},
     "output_type": "execute_result"
    }
   ],
   "source": [
    "a=45\n",
    "float(a)\n",
    "a # Type Conversion is not a permanent operation"
   ]
  },
  {
   "cell_type": "markdown",
   "metadata": {},
   "source": [
    "# NOTE: Type Conversion AND Type Casting are two different things do not mix them together\n",
    "- *********Type converion is not permanent but Type casting is permanent operation*********"
   ]
  },
  {
   "cell_type": "code",
   "execution_count": 24,
   "metadata": {},
   "outputs": [
    {
     "data": {
      "text/plain": [
       "[1, 2, 3, 4, 'as', 'a', 'matter']"
      ]
     },
     "execution_count": 24,
     "metadata": {},
     "output_type": "execute_result"
    },
    {
     "data": {
      "text/plain": [
       "(1, 2, 3, 4, 'as', 'a', 'matter')"
      ]
     },
     "execution_count": 24,
     "metadata": {},
     "output_type": "execute_result"
    },
    {
     "data": {
      "text/plain": [
       "{1, 2, 3, 4, 'a', 'as', 'matter'}"
      ]
     },
     "execution_count": 24,
     "metadata": {},
     "output_type": "execute_result"
    }
   ],
   "source": [
    "a=[1,2,3,4,'as','a','matter']\n",
    "a\n",
    "b=(1,2,3,4,'as','a','matter')\n",
    "b\n",
    "c={1,2,3,4,'as','a','matter'}\n",
    "c"
   ]
  },
  {
   "cell_type": "markdown",
   "metadata": {},
   "source": [
    "# Literals\n",
    "    Literal is a raw data given in a variable. In Python there are several types of literals. \n",
    "- Numeric Literals\n",
    "- String Literals\n",
    "- Bolllean Literals\n",
    "- Special Literals"
   ]
  },
  {
   "cell_type": "markdown",
   "metadata": {},
   "source": [
    "### 1. Numeric Literals"
   ]
  },
  {
   "cell_type": "code",
   "execution_count": 30,
   "metadata": {},
   "outputs": [
    {
     "name": "stdout",
     "output_type": "stream",
     "text": [
      "21 100 330 822\n",
      "1.25 125000000.0 0.0125\n",
      "(2+38j) 38.0 2.0\n"
     ]
    }
   ],
   "source": [
    "a = 0b010101 # Binary Numeric Literal\n",
    "b = 100 # Decimal Numeric Literal\n",
    "c = 0o512 # Octal Numeric Literal\n",
    "d = 0x336 # Hexadecimal Numeric Literal\n",
    "\n",
    "# Float Literal\n",
    "float_1 = 1.25\n",
    "float_2 = 1.25e+8\n",
    "float_3 = 1.25e-2\n",
    "\n",
    "# Complex Literal\n",
    "compl = 2+38j\n",
    "\n",
    "print(a,b,c,d)\n",
    "print(float_1,float_2,float_3)\n",
    "print(compl,compl.imag,compl.real)"
   ]
  },
  {
   "attachments": {},
   "cell_type": "markdown",
   "metadata": {},
   "source": [
    "### 2. String Literals"
   ]
  },
  {
   "cell_type": "code",
   "execution_count": 31,
   "metadata": {},
   "outputs": [
    {
     "name": "stdout",
     "output_type": "stream",
     "text": [
      "This Is Python\n",
      "This Is Python\n",
      "C\n",
      "This is a multiline string with more than one line of code\n",
      "😀😆🤣\n",
      "raw \\n string\n"
     ]
    }
   ],
   "source": [
    "string = 'This Is Python'\n",
    "strings = \"This Is Python\"\n",
    "char = \"C\"\n",
    "multiline_str = '''This is a multiline string with more than one line of code'''\n",
    "unicode = u\"\\U0001f600\\U0001F606\\U0001F923\"\n",
    "raw_str = r\"raw \\n string\"\n",
    "\n",
    "print(string)\n",
    "print(strings)\n",
    "print(char)\n",
    "print(multiline_str)\n",
    "print(unicode)\n",
    "print(raw_str)"
   ]
  },
  {
   "attachments": {},
   "cell_type": "markdown",
   "metadata": {},
   "source": [
    "### 3. Boolean Literals"
   ]
  },
  {
   "cell_type": "code",
   "execution_count": 32,
   "metadata": {},
   "outputs": [
    {
     "name": "stdout",
     "output_type": "stream",
     "text": [
      "a: 5\n",
      "b: 10\n"
     ]
    }
   ],
   "source": [
    "a = True + 4\n",
    "b = False + 10\n",
    "\n",
    "print('a:',a)\n",
    "print('b:',b)"
   ]
  },
  {
   "attachments": {},
   "cell_type": "markdown",
   "metadata": {},
   "source": [
    "### 4. Special Literals"
   ]
  },
  {
   "cell_type": "code",
   "execution_count": 33,
   "metadata": {},
   "outputs": [
    {
     "name": "stdout",
     "output_type": "stream",
     "text": [
      "None\n"
     ]
    }
   ],
   "source": [
    "a = None\n",
    "print(a) # It's used for defining a variable for future use, as we can't just type a variable and leave it.\n",
    "         # We have to assign some value to it, So this is how it's done."
   ]
  },
  {
   "attachments": {},
   "cell_type": "markdown",
   "metadata": {},
   "source": [
    "# Operators\n",
    "    Operators are used to perform operations on variables and values. Python has the following operators:\n",
    "- Arithmatic Operators\n",
    "- Comparison/Relational Operators\n",
    "- Logical Operators\n",
    "- Bitwise Operators\n",
    "- Assignment Operators\n",
    "- Identity Operators\n",
    "- Membership Operators"
   ]
  },
  {
   "cell_type": "code",
   "execution_count": 36,
   "metadata": {},
   "outputs": [
    {
     "name": "stdout",
     "output_type": "stream",
     "text": [
      "5 + 6  =  11\n",
      "5 - 6  =  -1\n",
      "5 * 6  =  30\n",
      "5 / 6  =  0.8333333333333334\n",
      "5 % 6  =  5\n",
      "5 ** 6  =  15625\n",
      "5 // 6  =  0\n"
     ]
    }
   ],
   "source": [
    "# Arithmatic Operators\n",
    "x,y = 5,6\n",
    "print(x,'+',y,' = ',x+y)\n",
    "print(x,'-',y,' = ',x-y)\n",
    "print(x,'*',y,' = ',x*y)\n",
    "print(x,'/',y,' = ',x/y) \n",
    "print(x,'%',y,' = ',x%y) # for remainder\n",
    "print(x,'**',y,' = ',x**y) # ** is for carat(means power)\n",
    "print(x,'//',y,' = ',x//y) # Returns Only Integer Part"
   ]
  },
  {
   "cell_type": "code",
   "execution_count": 38,
   "metadata": {},
   "outputs": [
    {
     "name": "stdout",
     "output_type": "stream",
     "text": [
      "5 > 6  =  False\n",
      "5 < 6  =  True\n",
      "5 >= 6  =  False\n",
      "5 <= 6  =  True\n",
      "5 == 6  =  False\n",
      "5 != 6  =  True\n"
     ]
    }
   ],
   "source": [
    "# Comparison/Relational Operators\n",
    "print(x,'>',y,' = ',x>y)\n",
    "print(x,'<',y,' = ',x<y)\n",
    "print(x,'>=',y,' = ',x>=y)\n",
    "print(x,'<=',y,' = ',x<=y)\n",
    "print(x,'==',y,' = ',x==y)\n",
    "print(x,'!=',y,' = ',x!=y)"
   ]
  },
  {
   "cell_type": "code",
   "execution_count": 43,
   "metadata": {},
   "outputs": [
    {
     "name": "stdout",
     "output_type": "stream",
     "text": [
      "True OR False  =  True\n",
      "True AND False  =  False\n",
      "True NOT  =  False\n"
     ]
    }
   ],
   "source": [
    "# Logical Operators\n",
    "a,b = True,False\n",
    "print(a,'OR',b,' = ',a or b)\n",
    "print(a,'AND',b,' = ',a and b)\n",
    "print(a,'NOT',' = ',not x)"
   ]
  },
  {
   "cell_type": "code",
   "execution_count": 44,
   "metadata": {},
   "outputs": [
    {
     "name": "stdout",
     "output_type": "stream",
     "text": [
      "2\n",
      "3\n",
      "1\n",
      "48\n",
      "-4\n"
     ]
    }
   ],
   "source": [
    "# Bitwise Operators (ONLY FOR BINARY OPERATIONS)\n",
    "print(2 & 3)# & Binary AND \n",
    "print(2 | 3)# | Binary OR\n",
    "print(2 >> 1)# >> Binary Right Shift\n",
    "print(3 << 4)# << Binary Left Shift\n",
    "print(~3)# ~ Binary Nor"
   ]
  },
  {
   "cell_type": "code",
   "execution_count": 48,
   "metadata": {},
   "outputs": [
    {
     "data": {
      "text/plain": [
       "5"
      ]
     },
     "execution_count": 48,
     "metadata": {},
     "output_type": "execute_result"
    }
   ],
   "source": [
    "# Assignment Operators\n",
    "a = 5\n",
    "a"
   ]
  },
  {
   "cell_type": "code",
   "execution_count": 49,
   "metadata": {},
   "outputs": [
    {
     "name": "stdout",
     "output_type": "stream",
     "text": [
      "True\n",
      "True\n",
      "False\n",
      "False\n"
     ]
    }
   ],
   "source": [
    "# Identity Operators\n",
    "a = 5\n",
    "b = 5\n",
    "print(a is b) # This operator tells us if the memory location of the variables are same or not.\n",
    "c = 'hello'\n",
    "d = 'hello'\n",
    "print(c is d)\n",
    "e = [1,2,3]\n",
    "f = [1,2,3]\n",
    "print(e is f)\n",
    "g = 'hellow-world'\n",
    "h = 'hellow-world'\n",
    "print(g is h)"
   ]
  },
  {
   "cell_type": "code",
   "execution_count": 51,
   "metadata": {},
   "outputs": [
    {
     "name": "stdout",
     "output_type": "stream",
     "text": [
      "True\n",
      "True\n",
      "False\n",
      "True\n"
     ]
    }
   ],
   "source": [
    "# Membership Operator\n",
    "x = 'checking'\n",
    "print('c' in x)\n",
    "\n",
    "print('c' in list(x))\n",
    "\n",
    "print('C' in tuple(x))\n",
    "\n",
    "print('c' in set(x))"
   ]
  },
  {
   "attachments": {},
   "cell_type": "markdown",
   "metadata": {},
   "source": [
    "# IF-ELSE Statement\n",
    "### IF-ELSE-IF\n",
    "### Nested IF"
   ]
  },
  {
   "cell_type": "code",
   "execution_count": 5,
   "metadata": {},
   "outputs": [],
   "source": [
    "# CORRECT email and password\n",
    "# email = jaimahakal@gmail.com\n",
    "# password = bambhole\n",
    "\n",
    "email = input(\"email ID\")\n",
    "password = input(\"password\")\n",
    "\n",
    "if '@' in email:\n",
    "    if email == 'jaimahakal@gmail.com':\n",
    "        if password == 'bambhole':\n",
    "            print('Login Success')\n",
    "        else:\n",
    "            password = input('Incorrect Password Enter Again')\n",
    "    else:\n",
    "        print(\"Incorrect Credentials\")\n",
    "else:\n",
    "    print(\"Incorrect Credentials\")  "
   ]
  },
  {
   "attachments": {},
   "cell_type": "markdown",
   "metadata": {},
   "source": [
    "# LOOPS\n",
    "- WHILE Loop\n",
    "- For Loop"
   ]
  },
  {
   "cell_type": "code",
   "execution_count": 25,
   "metadata": {},
   "outputs": [
    {
     "name": "stdout",
     "output_type": "stream",
     "text": [
      "15 * 1 = 15\n",
      "15 * 2 = 30\n",
      "15 * 3 = 45\n",
      "15 * 4 = 60\n",
      "15 * 5 = 75\n",
      "15 * 6 = 90\n",
      "15 * 7 = 105\n",
      "15 * 8 = 120\n",
      "15 * 9 = 135\n",
      "15 * 10 = 150\n"
     ]
    }
   ],
   "source": [
    "# WHILE LOOP\n",
    "\n",
    "x = int(input('Enter a Number'))\n",
    "i = 1\n",
    "while i<11:\n",
    "    print(x,'*',i,'=',i*x)\n",
    "    i+=1"
   ]
  },
  {
   "attachments": {},
   "cell_type": "markdown",
   "metadata": {},
   "source": [
    "# Guessing Game"
   ]
  },
  {
   "cell_type": "code",
   "execution_count": 6,
   "metadata": {},
   "outputs": [],
   "source": [
    "import random"
   ]
  },
  {
   "cell_type": "code",
   "execution_count": 20,
   "metadata": {},
   "outputs": [
    {
     "data": {
      "text/plain": [
       "42"
      ]
     },
     "execution_count": 20,
     "metadata": {},
     "output_type": "execute_result"
    }
   ],
   "source": [
    "random.randint(1,100) # generates Random Number"
   ]
  },
  {
   "cell_type": "code",
   "execution_count": 24,
   "metadata": {},
   "outputs": [
    {
     "name": "stdout",
     "output_type": "stream",
     "text": [
      "Guessed Number:  50\n",
      "Guess Higher\n",
      "Guessed Number:  60\n",
      "Guess Higher\n",
      "Guessed Number:  60\n",
      "Guess Higher\n",
      "Guessed Number:  70\n",
      "Guess Lower\n",
      "Guessed Number:  65\n",
      "Guess Higher\n",
      "Guessed Number:  66\n",
      "Correct Guess\n",
      "You took 6 attempts.\n"
     ]
    }
   ],
   "source": [
    "lottery = random.randint(1,100)\n",
    "guess = int(input('Guess A Number Between 1 To 100'))\n",
    "count=1\n",
    "\n",
    "while guess != lottery:\n",
    "    print('Guessed Number: ',guess)\n",
    "    if guess < lottery:\n",
    "        print('Guess Higher')\n",
    "    else:\n",
    "        print('Guess Lower')\n",
    "    \n",
    "    # print('Guessed Number: ',guess)\n",
    "    guess = int(input('Again Guess A Number Between 1 To 100'))\n",
    "    count+=1\n",
    "\n",
    "print('Guessed Number: ',guess)\n",
    "print('Correct Guess')\n",
    "print('You took',count,'attempts.')"
   ]
  },
  {
   "cell_type": "code",
   "execution_count": 36,
   "metadata": {},
   "outputs": [
    {
     "data": {
      "text/plain": [
       "[1, 2, 3, 4, 5, 6, 7, 8, 9, 10]"
      ]
     },
     "execution_count": 36,
     "metadata": {},
     "output_type": "execute_result"
    },
    {
     "data": {
      "text/plain": [
       "list"
      ]
     },
     "execution_count": 36,
     "metadata": {},
     "output_type": "execute_result"
    },
    {
     "data": {
      "text/plain": [
       "[0, 1, 2, 3, 4, 5, 6, 7, 8, 9, 10]"
      ]
     },
     "execution_count": 36,
     "metadata": {},
     "output_type": "execute_result"
    },
    {
     "data": {
      "text/plain": [
       "list"
      ]
     },
     "execution_count": 36,
     "metadata": {},
     "output_type": "execute_result"
    },
    {
     "data": {
      "text/plain": [
       "[0, 3, 6, 9, 12, 15, 18]"
      ]
     },
     "execution_count": 36,
     "metadata": {},
     "output_type": "execute_result"
    },
    {
     "data": {
      "text/plain": [
       "list"
      ]
     },
     "execution_count": 36,
     "metadata": {},
     "output_type": "execute_result"
    },
    {
     "data": {
      "text/plain": [
       "['G', 'u', 'l', 'a', 'm', ' ', 'M', 'u', 's', 't', 'a', 'f', 'a']"
      ]
     },
     "execution_count": 36,
     "metadata": {},
     "output_type": "execute_result"
    },
    {
     "data": {
      "text/plain": [
       "list"
      ]
     },
     "execution_count": 36,
     "metadata": {},
     "output_type": "execute_result"
    },
    {
     "data": {
      "text/plain": [
       "{' ', 'G', 'M', 'a', 'f', 'l', 'm', 's', 't', 'u'}"
      ]
     },
     "execution_count": 36,
     "metadata": {},
     "output_type": "execute_result"
    },
    {
     "data": {
      "text/plain": [
       "set"
      ]
     },
     "execution_count": 36,
     "metadata": {},
     "output_type": "execute_result"
    },
    {
     "data": {
      "text/plain": [
       "('G', 'u', 'l', 'a', 'm', ' ', 'M', 'u', 's', 't', 'a', 'f', 'a')"
      ]
     },
     "execution_count": 36,
     "metadata": {},
     "output_type": "execute_result"
    },
    {
     "data": {
      "text/plain": [
       "tuple"
      ]
     },
     "execution_count": 36,
     "metadata": {},
     "output_type": "execute_result"
    },
    {
     "data": {
      "text/plain": [
       "{1: 'one', 2: 'two', 3: 'three', 4: 'four'}"
      ]
     },
     "execution_count": 36,
     "metadata": {},
     "output_type": "execute_result"
    },
    {
     "data": {
      "text/plain": [
       "dict"
      ]
     },
     "execution_count": 36,
     "metadata": {},
     "output_type": "execute_result"
    }
   ],
   "source": [
    "#  FOR LOOP (It only iterates on range() function OR sequences such as lists, tuple, sets, dictionary).\n",
    "\n",
    "#  RANGE FUNCTION\n",
    "a = list(range(1,11))\n",
    "a\n",
    "type(a)\n",
    "\n",
    "b = list(range(11)) # It's starting point is set at 0 by default.\n",
    "b\n",
    "type(b)\n",
    "\n",
    "a = list(range(0,20,3)) # Here 0 is Start, 20 is END and 3 is Steps.\n",
    "a\n",
    "type(a)\n",
    "\n",
    "# SEQUENCES\n",
    "a = list('Gulam Mustafa')\n",
    "a\n",
    "type(a)\n",
    "\n",
    "a = set('Gulam Mustafa')\n",
    "a\n",
    "type(a)\n",
    "\n",
    "a = tuple('Gulam Mustafa')\n",
    "a\n",
    "type(a)\n",
    "\n",
    "a = {1:'one',2:'two',3:'three',4:'four'}\n",
    "a\n",
    "type(a)"
   ]
  },
  {
   "cell_type": "code",
   "execution_count": 13,
   "metadata": {},
   "outputs": [
    {
     "name": "stdout",
     "output_type": "stream",
     "text": [
      "1 , 2 , 3 , 4 , 5 , 6 , 7 , 8 , 9 , 10 , "
     ]
    }
   ],
   "source": [
    "for i in range(1,11):\n",
    "    print(i,end=' , ')"
   ]
  },
  {
   "cell_type": "code",
   "execution_count": 15,
   "metadata": {},
   "outputs": [
    {
     "name": "stdout",
     "output_type": "stream",
     "text": [
      "R - U - D - R - A - A - S - H - T - A - K - A - M - "
     ]
    }
   ],
   "source": [
    "for i in 'RUDRAASHTAKAM':\n",
    "    print(i,end=' - ')"
   ]
  },
  {
   "cell_type": "code",
   "execution_count": 16,
   "metadata": {},
   "outputs": [
    {
     "name": "stdout",
     "output_type": "stream",
     "text": [
      "[38, 21, 27, 99, 41]\n",
      "38,21,27,99,41,"
     ]
    }
   ],
   "source": [
    "l1 = [random.randint(1,100),random.randint(1,100),random.randint(1,100),random.randint(1,100),random.randint(1,100)]\n",
    "print(l1)\n",
    "for i in l1:\n",
    "    print(i,end=',')"
   ]
  },
  {
   "cell_type": "code",
   "execution_count": 17,
   "metadata": {},
   "outputs": [
    {
     "name": "stdout",
     "output_type": "stream",
     "text": [
      "99 , 38 , 41 , 21 , 27 , "
     ]
    }
   ],
   "source": [
    "for i in set(l1):\n",
    "    print(i,end=' , ')"
   ]
  },
  {
   "cell_type": "code",
   "execution_count": 18,
   "metadata": {},
   "outputs": [
    {
     "name": "stdout",
     "output_type": "stream",
     "text": [
      "38 , 21 , 27 , 99 , 41 , "
     ]
    }
   ],
   "source": [
    "for i in tuple(l1):\n",
    "    print(i,end=' , ')"
   ]
  },
  {
   "attachments": {},
   "cell_type": "markdown",
   "metadata": {},
   "source": [
    "    *WHILE LOOP - are used when you don't know how many iterations are to be done.\n",
    "    *FOR LOOP - are used when you know the number of iterations."
   ]
  },
  {
   "attachments": {},
   "cell_type": "markdown",
   "metadata": {},
   "source": [
    "### NESTED LOOP"
   ]
  },
  {
   "cell_type": "code",
   "execution_count": 3,
   "metadata": {},
   "outputs": [
    {
     "name": "stdout",
     "output_type": "stream",
     "text": [
      "*\n",
      "**\n",
      "***\n",
      "****\n",
      "*****\n"
     ]
    }
   ],
   "source": [
    "# Printing Pascal's Triangle\n",
    "n=int(input('user Input'))\n",
    "for i in range(n):\n",
    "    print('*'*(i+1))"
   ]
  },
  {
   "cell_type": "code",
   "execution_count": 4,
   "metadata": {},
   "outputs": [
    {
     "name": "stdout",
     "output_type": "stream",
     "text": [
      "    *\n",
      "   **\n",
      "  ***\n",
      " ****\n",
      "*****\n"
     ]
    }
   ],
   "source": [
    "for i in range(n):\n",
    "    print(' '*(n-(i+1)),end='')\n",
    "    for j in range(1):\n",
    "        print('*'*(i+1))"
   ]
  },
  {
   "cell_type": "code",
   "execution_count": 5,
   "metadata": {},
   "outputs": [
    {
     "name": "stdout",
     "output_type": "stream",
     "text": [
      "    *\n",
      "   ***\n",
      "  *****\n",
      " *******\n",
      "*********\n"
     ]
    }
   ],
   "source": [
    "for i in range(n):\n",
    "    print(' '*(n-(i+1)),end='')\n",
    "    for j in range(1):\n",
    "        print('*'*(i+1),end='')\n",
    "        for k in range(1):\n",
    "            print('*'*i)"
   ]
  },
  {
   "cell_type": "code",
   "execution_count": 6,
   "metadata": {},
   "outputs": [
    {
     "name": "stdout",
     "output_type": "stream",
     "text": [
      "    0\n",
      "   111\n",
      "  22222\n",
      " 3333333\n",
      "444444444\n"
     ]
    }
   ],
   "source": [
    "for i in range(n):\n",
    "    print(' '*(n-(i+1)),end='')\n",
    "    for j in range(1):\n",
    "        print(str(i)*(i+1),end='')\n",
    "        for k in range(1):\n",
    "            print(str(i)*i)"
   ]
  },
  {
   "cell_type": "code",
   "execution_count": 7,
   "metadata": {},
   "outputs": [
    {
     "name": "stdout",
     "output_type": "stream",
     "text": [
      "    *\n",
      "   **\n",
      "  ***\n",
      " ****\n",
      "*****\n"
     ]
    }
   ],
   "source": [
    "for i in range(n):\n",
    "    print(' '*(n-(i+1)),end='')\n",
    "    for j in range(i+1):\n",
    "        print('*',end='')\n",
    "    print('')"
   ]
  },
  {
   "cell_type": "code",
   "execution_count": 8,
   "metadata": {},
   "outputs": [
    {
     "name": "stdout",
     "output_type": "stream",
     "text": [
      "    * \n",
      "   * * \n",
      "  * * * \n",
      " * * * * \n",
      "* * * * * \n"
     ]
    }
   ],
   "source": [
    "for i in range(n):\n",
    "    print(' '*(n-(i+1)),end='')\n",
    "    for j in range(i+1):\n",
    "        print('* ',end='')\n",
    "    print('')"
   ]
  },
  {
   "attachments": {},
   "cell_type": "markdown",
   "metadata": {},
   "source": [
    "### Break, Continue AND Pass Statements ***VERY IMPORTANT***"
   ]
  },
  {
   "cell_type": "code",
   "execution_count": 9,
   "metadata": {},
   "outputs": [
    {
     "name": "stdout",
     "output_type": "stream",
     "text": [
      "0,1,2,3,4,5,6,7,8,9,10,11,12,13,14,15,16,17,18,19,20,"
     ]
    }
   ],
   "source": [
    "for i in range(100): # Here loop is set to run for 100 time but due to break statement it is terminated in between\n",
    "    if i>20:\n",
    "        break # break statements are used for loop termination if certain conditions are met which results in lesser\n",
    "    print(i,end=',') # code execution time and better results."
   ]
  },
  {
   "cell_type": "code",
   "execution_count": 10,
   "metadata": {},
   "outputs": [
    {
     "name": "stdout",
     "output_type": "stream",
     "text": [
      "0,1,2,3,4,5,6,7,  9,10,11,12,13,14,\n",
      "  '8 skipped due to continue'  \n"
     ]
    }
   ],
   "source": [
    "for i in range(15): # Here loop is set to run for 15 times but due to contnue statement it runs for 14 times\n",
    "    if i == 8: # continue statement- used when you want skip a step due to certain conditions and goto the top of loop\n",
    "        print('  ',end='') \n",
    "        continue # continue - skips the code written below and goto the start of loop\n",
    "    print(i,end=',') \n",
    "print('')\n",
    "print(' ',\"'8 skipped due to continue'\",' ')"
   ]
  },
  {
   "cell_type": "code",
   "execution_count": 11,
   "metadata": {},
   "outputs": [
    {
     "ename": "SyntaxError",
     "evalue": "unexpected EOF while parsing (<ipython-input-11-8f0216041d57>, line 3)",
     "output_type": "error",
     "traceback": [
      "\u001b[1;36m  File \u001b[1;32m\"<ipython-input-11-8f0216041d57>\"\u001b[1;36m, line \u001b[1;32m3\u001b[0m\n\u001b[1;33m    # to prevent the code from throwing error while execution pass is used.\u001b[0m\n\u001b[1;37m                                                                           ^\u001b[0m\n\u001b[1;31mSyntaxError\u001b[0m\u001b[1;31m:\u001b[0m unexpected EOF while parsing\n"
     ]
    }
   ],
   "source": [
    "for i in range(random.randint(1,100)): # WITHOUT PASS STETEMENT\n",
    "    # pass # pass statement - used for codes whose logic is currently not written/to be written in future,\n",
    "    # to prevent the code from throwing error while execution pass is used."
   ]
  },
  {
   "cell_type": "code",
   "execution_count": 12,
   "metadata": {},
   "outputs": [],
   "source": [
    "for i in range(random.randint(1,100)): # WITH PASS STETEMENT\n",
    "    pass # pass statement - used for codes whose logic is currently not written/to be written in future,\n",
    "         # to prevent the code from throwing error while execution pass is used."
   ]
  },
  {
   "attachments": {},
   "cell_type": "markdown",
   "metadata": {},
   "source": [
    "# BUILT-IN ***Functions***"
   ]
  },
  {
   "attachments": {},
   "cell_type": "markdown",
   "metadata": {},
   "source": [
    "#### 1. print"
   ]
  },
  {
   "cell_type": "code",
   "execution_count": 14,
   "metadata": {},
   "outputs": [
    {
     "name": "stdout",
     "output_type": "stream",
     "text": [
      "(*values: object, sep: str | None = \" \", end: str | None = \"\n",
      "\", file: SupportsWrite[str] | None = None, flush: Literal[False] = False) -> None\n",
      "print(value, ..., sep=' ', end='\n",
      "', file=sys.stdout, flush=False)\n",
      "\n",
      "Prints the values to a stream, or to sys.stdout by default. Optional keyword arguments:\n",
      "file: a file-like object (stream); defaults to the current sys.stdout.\n",
      "sep: string inserted between values, default a space.\n",
      "end: string appended after the last value, default a newline.\n",
      "flush: whether to forcibly flush the stream.\n"
     ]
    }
   ],
   "source": [
    "print('''(*values: object, sep: str | None = \" \", end: str | None = \"\\n\", file: SupportsWrite[str] | None = None, flush: Literal[False] = False) -> None\n",
    "print(value, ..., sep=' ', end='\\n', file=sys.stdout, flush=False)\n",
    "\n",
    "Prints the values to a stream, or to sys.stdout by default. Optional keyword arguments:\n",
    "file: a file-like object (stream); defaults to the current sys.stdout.\n",
    "sep: string inserted between values, default a space.\n",
    "end: string appended after the last value, default a newline.\n",
    "flush: whether to forcibly flush the stream.''')"
   ]
  },
  {
   "attachments": {},
   "cell_type": "markdown",
   "metadata": {},
   "source": [
    "#### 2. input"
   ]
  },
  {
   "cell_type": "code",
   "execution_count": 15,
   "metadata": {},
   "outputs": [
    {
     "data": {
      "text/plain": [
       "'aka'"
      ]
     },
     "execution_count": 15,
     "metadata": {},
     "output_type": "execute_result"
    }
   ],
   "source": [
    "input('Enter You Name')"
   ]
  },
  {
   "attachments": {},
   "cell_type": "markdown",
   "metadata": {},
   "source": [
    "#### 3. type"
   ]
  },
  {
   "cell_type": "code",
   "execution_count": 16,
   "metadata": {},
   "outputs": [
    {
     "data": {
      "text/plain": [
       "int"
      ]
     },
     "execution_count": 16,
     "metadata": {},
     "output_type": "execute_result"
    }
   ],
   "source": [
    "type(5)"
   ]
  },
  {
   "attachments": {},
   "cell_type": "markdown",
   "metadata": {},
   "source": [
    "#### 4. int,float,string,list,etc."
   ]
  },
  {
   "cell_type": "code",
   "execution_count": 18,
   "metadata": {},
   "outputs": [
    {
     "data": {
      "text/plain": [
       "5"
      ]
     },
     "execution_count": 18,
     "metadata": {},
     "output_type": "execute_result"
    }
   ],
   "source": [
    "int(5.98)"
   ]
  },
  {
   "attachments": {},
   "cell_type": "markdown",
   "metadata": {},
   "source": [
    "#### 5. abs"
   ]
  },
  {
   "cell_type": "code",
   "execution_count": 19,
   "metadata": {},
   "outputs": [
    {
     "data": {
      "text/plain": [
       "9"
      ]
     },
     "execution_count": 19,
     "metadata": {},
     "output_type": "execute_result"
    }
   ],
   "source": [
    "abs(-9)"
   ]
  },
  {
   "attachments": {},
   "cell_type": "markdown",
   "metadata": {},
   "source": [
    "#### 6. pow"
   ]
  },
  {
   "cell_type": "code",
   "execution_count": 46,
   "metadata": {},
   "outputs": [
    {
     "data": {
      "text/plain": [
       "25"
      ]
     },
     "execution_count": 46,
     "metadata": {},
     "output_type": "execute_result"
    }
   ],
   "source": [
    "pow(5,2)"
   ]
  },
  {
   "attachments": {},
   "cell_type": "markdown",
   "metadata": {},
   "source": [
    "#### 7. min/max"
   ]
  },
  {
   "cell_type": "code",
   "execution_count": 27,
   "metadata": {},
   "outputs": [
    {
     "data": {
      "text/plain": [
       "2"
      ]
     },
     "execution_count": 27,
     "metadata": {},
     "output_type": "execute_result"
    },
    {
     "data": {
      "text/plain": [
       "8"
      ]
     },
     "execution_count": 27,
     "metadata": {},
     "output_type": "execute_result"
    }
   ],
   "source": [
    "min({2,5,6,8,6,})\n",
    "max({2,5,6,8,6,})"
   ]
  },
  {
   "attachments": {},
   "cell_type": "markdown",
   "metadata": {},
   "source": [
    "#### 8. round"
   ]
  },
  {
   "cell_type": "code",
   "execution_count": 28,
   "metadata": {},
   "outputs": [
    {
     "data": {
      "text/plain": [
       "3.14"
      ]
     },
     "execution_count": 28,
     "metadata": {},
     "output_type": "execute_result"
    }
   ],
   "source": [
    "round(22/7,2)"
   ]
  },
  {
   "attachments": {},
   "cell_type": "markdown",
   "metadata": {},
   "source": [
    "#### 9. divmod"
   ]
  },
  {
   "cell_type": "code",
   "execution_count": 29,
   "metadata": {},
   "outputs": [
    {
     "data": {
      "text/plain": [
       "(2, 1)"
      ]
     },
     "execution_count": 29,
     "metadata": {},
     "output_type": "execute_result"
    }
   ],
   "source": [
    "divmod(5,2) # return integer division and remainder"
   ]
  },
  {
   "attachments": {},
   "cell_type": "markdown",
   "metadata": {},
   "source": [
    "#### 10. bin/oct/hex"
   ]
  },
  {
   "cell_type": "code",
   "execution_count": 31,
   "metadata": {},
   "outputs": [
    {
     "data": {
      "text/plain": [
       "'0b11010010001'"
      ]
     },
     "execution_count": 31,
     "metadata": {},
     "output_type": "execute_result"
    },
    {
     "data": {
      "text/plain": [
       "'0o3221'"
      ]
     },
     "execution_count": 31,
     "metadata": {},
     "output_type": "execute_result"
    },
    {
     "data": {
      "text/plain": [
       "'0x691'"
      ]
     },
     "execution_count": 31,
     "metadata": {},
     "output_type": "execute_result"
    }
   ],
   "source": [
    "bin(1681)\n",
    "oct(1681)\n",
    "hex(1681)"
   ]
  },
  {
   "attachments": {},
   "cell_type": "markdown",
   "metadata": {},
   "source": [
    "#### 11. id"
   ]
  },
  {
   "cell_type": "code",
   "execution_count": 32,
   "metadata": {},
   "outputs": [
    {
     "data": {
      "text/plain": [
       "140713533581152"
      ]
     },
     "execution_count": 32,
     "metadata": {},
     "output_type": "execute_result"
    }
   ],
   "source": [
    "a = 3\n",
    "id(a)"
   ]
  },
  {
   "attachments": {},
   "cell_type": "markdown",
   "metadata": {},
   "source": [
    "#### 12. ord"
   ]
  },
  {
   "cell_type": "code",
   "execution_count": 36,
   "metadata": {},
   "outputs": [
    {
     "data": {
      "text/plain": [
       "65"
      ]
     },
     "execution_count": 36,
     "metadata": {},
     "output_type": "execute_result"
    }
   ],
   "source": [
    "ord('A')"
   ]
  },
  {
   "attachments": {},
   "cell_type": "markdown",
   "metadata": {},
   "source": [
    "#### 13. len"
   ]
  },
  {
   "cell_type": "code",
   "execution_count": 37,
   "metadata": {},
   "outputs": [
    {
     "data": {
      "text/plain": [
       "7"
      ]
     },
     "execution_count": 37,
     "metadata": {},
     "output_type": "execute_result"
    },
    {
     "data": {
      "text/plain": [
       "6"
      ]
     },
     "execution_count": 37,
     "metadata": {},
     "output_type": "execute_result"
    }
   ],
   "source": [
    "len('Kolkata')\n",
    "len([1,'a',5,6,8,'z'])"
   ]
  },
  {
   "attachments": {},
   "cell_type": "markdown",
   "metadata": {},
   "source": [
    "#### 14. sum"
   ]
  },
  {
   "cell_type": "code",
   "execution_count": 41,
   "metadata": {},
   "outputs": [
    {
     "data": {
      "text/plain": [
       "{32, 48, 51, 79, 100}"
      ]
     },
     "execution_count": 41,
     "metadata": {},
     "output_type": "execute_result"
    },
    {
     "data": {
      "text/plain": [
       "310"
      ]
     },
     "execution_count": 41,
     "metadata": {},
     "output_type": "execute_result"
    }
   ],
   "source": [
    "x = {random.randint(1,100),random.randint(1,100),random.randint(1,100),random.randint(1,100),random.randint(1,100)}\n",
    "x\n",
    "sum(x)"
   ]
  },
  {
   "attachments": {},
   "cell_type": "markdown",
   "metadata": {},
   "source": [
    "#### 15. help"
   ]
  },
  {
   "cell_type": "code",
   "execution_count": 2,
   "metadata": {},
   "outputs": [
    {
     "name": "stdout",
     "output_type": "stream",
     "text": [
      "Help on built-in function print in module builtins:\n",
      "\n",
      "print(...)\n",
      "    print(value, ..., sep=' ', end='\\n', file=sys.stdout, flush=False)\n",
      "    \n",
      "    Prints the values to a stream, or to sys.stdout by default.\n",
      "    Optional keyword arguments:\n",
      "    file:  a file-like object (stream); defaults to the current sys.stdout.\n",
      "    sep:   string inserted between values, default a space.\n",
      "    end:   string appended after the last value, default a newline.\n",
      "    flush: whether to forcibly flush the stream.\n",
      "\n"
     ]
    }
   ],
   "source": [
    "help('print')"
   ]
  },
  {
   "cell_type": "code",
   "execution_count": 3,
   "metadata": {},
   "outputs": [
    {
     "name": "stdout",
     "output_type": "stream",
     "text": [
      "Help on built-in function pow in module builtins:\n",
      "\n",
      "pow(base, exp, mod=None)\n",
      "    Equivalent to base**exp with 2 arguments or base**exp % mod with 3 arguments\n",
      "    \n",
      "    Some types, such as ints, are able to use a more efficient algorithm when\n",
      "    invoked using the three argument form.\n",
      "\n"
     ]
    }
   ],
   "source": [
    "help('pow')"
   ]
  },
  {
   "cell_type": "code",
   "execution_count": 4,
   "metadata": {},
   "outputs": [
    {
     "name": "stdout",
     "output_type": "stream",
     "text": [
      "Help on built-in function sum in module builtins:\n",
      "\n",
      "sum(iterable, /, start=0)\n",
      "    Return the sum of a 'start' value (default: 0) plus an iterable of numbers\n",
      "    \n",
      "    When the iterable is empty, return the start value.\n",
      "    This function is intended specifically for use with numeric values and may\n",
      "    reject non-numeric types.\n",
      "\n"
     ]
    }
   ],
   "source": [
    "help('sum')"
   ]
  },
  {
   "cell_type": "code",
   "execution_count": 5,
   "metadata": {},
   "outputs": [
    {
     "name": "stdout",
     "output_type": "stream",
     "text": [
      "Help on package bin:\n",
      "\n",
      "NAME\n",
      "    bin\n",
      "\n",
      "PACKAGE CONTENTS\n",
      "\n",
      "\n",
      "FILE\n",
      "    (built-in)\n",
      "\n",
      "\n"
     ]
    }
   ],
   "source": [
    "help('bin')"
   ]
  },
  {
   "attachments": {},
   "cell_type": "markdown",
   "metadata": {},
   "source": [
    "# BUILT-IN ***Modules***"
   ]
  },
  {
   "attachments": {},
   "cell_type": "markdown",
   "metadata": {},
   "source": [
    "    Modules can be considered as a CODE LIBRARAY.\n",
    "\n",
    "*A file containing a set of functions you want to include in your code.*\n",
    "\n",
    "*Examples of Python Module :*\n",
    "- Math\n",
    "- Random\n",
    "- OS\n",
    "- time"
   ]
  },
  {
   "cell_type": "code",
   "execution_count": 6,
   "metadata": {},
   "outputs": [
    {
     "name": "stdout",
     "output_type": "stream",
     "text": [
      "\n",
      "Please wait a moment while I gather a list of all available modules...\n",
      "\n"
     ]
    },
    {
     "name": "stderr",
     "output_type": "stream",
     "text": [
      "c:\\Users\\kushwa\\anaconda3\\lib\\site-packages\\IPython\\kernel\\__init__.py:12: ShimWarning: The `IPython.kernel` package has been deprecated since IPython 4.0.You should import from ipykernel or jupyter_client instead.\n",
      "  warn(\"The `IPython.kernel` package has been deprecated since IPython 4.0.\"\n",
      "c:\\Users\\kushwa\\anaconda3\\lib\\pkgutil.py:92: MatplotlibDeprecationWarning: \n",
      "The matplotlib.compat module was deprecated in Matplotlib 3.3 and will be removed two minor releases later.\n",
      "  __import__(info.name)\n",
      "c:\\Users\\kushwa\\anaconda3\\lib\\site-packages\\nltk\\twitter\\__init__.py:21: UserWarning: The twython library has not been installed. Some functionality from the twitter package will not be available.\n",
      "  warnings.warn(\n",
      "c:\\Users\\kushwa\\anaconda3\\lib\\site-packages\\skimage\\viewer\\utils\\__init__.py:1: UserWarning: Recommended matplotlib backend is `Agg` for full skimage.viewer functionality.\n",
      "  from .core import *\n",
      "c:\\Users\\kushwa\\anaconda3\\lib\\site-packages\\qtawesome\\iconic_font.py:311: UserWarning: You need to have a running QApplication to use QtAwesome!\n",
      "  warnings.warn(\"You need to have a running \"\n",
      "c:\\Users\\kushwa\\anaconda3\\lib\\pkgutil.py:107: VisibleDeprecationWarning: zmq.eventloop.minitornado is deprecated in pyzmq 14.0 and will be removed.\n",
      "    Install tornado itself to use zmq with the tornado IOLoop.\n",
      "    \n",
      "  yield from walk_packages(path, info.name+'.', onerror)\n"
     ]
    },
    {
     "name": "stdout",
     "output_type": "stream",
     "text": [
      "Cython              brain_random        markupsafe          snowballstemmer\n",
      "IPython             brain_re            marshal             socket\n",
      "My TTS              brain_responses     math                socketserver\n",
      "OpenSSL             brain_scipy_signal  matplotlib          socks\n",
      "PIL                 brain_six           mccabe              sockshandler\n",
      "PyQt5               brain_ssl           menuinst            sortedcollections\n",
      "__future__          brain_subprocess    mimetypes           sortedcontainers\n",
      "_abc                brain_threading     mistune             soupsieve\n",
      "_ast                brain_typing        mkl                 sphinx\n",
      "_asyncio            brain_uuid          mkl_fft             sphinxcontrib\n",
      "_bisect             brotli              mkl_random          spyder\n",
      "_blake2             bs4                 mmap                spyder_kernels\n",
      "_bootlocale         builtins            mmapfile            sqlalchemy\n",
      "_bz2                bz2                 mmsystem            sqlite3\n",
      "_cffi_backend       cProfile            mock                sre_compile\n",
      "_codecs             calendar            modulefinder        sre_constants\n",
      "_codecs_cn          certifi             more_itertools      sre_parse\n",
      "_codecs_hk          cffi                mpmath              ssl\n",
      "_codecs_iso2022     cgi                 msgpack             sspi\n",
      "_codecs_jp          cgitb               msilib              sspicon\n",
      "_codecs_kr          chardet             msvcrt              stat\n",
      "_codecs_tw          chunk               multipledispatch    statistics\n",
      "_collections        click               multiprocessing     statsmodels\n",
      "_collections_abc    cloudpickle         mysql               storemagic\n",
      "_compat_pickle      clyent              mysqlx              string\n",
      "_compression        cmath               nacl                stringprep\n",
      "_contextvars        cmd                 navigator_updater   struct\n",
      "_csv                code                nbclient            subprocess\n",
      "_ctypes             codecs              nbconvert           sunau\n",
      "_ctypes_test        codeop              nbformat            symbol\n",
      "_datetime           collections         nest_asyncio        sympy\n",
      "_decimal            colorama            netbios             sympyprinting\n",
      "_distutils_hack     colorsys            netrc               symtable\n",
      "_dummy_thread       commctrl            networkx            sys\n",
      "_elementtree        compileall          nltk                sysconfig\n",
      "_functools          comtypes            nntplib             tables\n",
      "_hashlib            concurrent          nose                tabnanny\n",
      "_heapq              conda               notebook            tarfile\n",
      "_imp                conda_build         nt                  tblib\n",
      "_io                 conda_env           ntpath              telnetlib\n",
      "_json               conda_package_handling ntsecuritycon       tempfile\n",
      "_locale             conda_verify        nturl2path          terminado\n",
      "_lsprof             configparser        numba               test\n",
      "_lzma               contextlib          numbers             test_data\n",
      "_markupbase         contextlib2         numexpr             test_pycosat\n",
      "_md5                contextvars         numpy               testpath\n",
      "_msi                copy                numpydoc            tests\n",
      "_multibytecodec     copyreg             odbc                textwrap\n",
      "_multiprocessing    crypt               olefile             this\n",
      "_mysql_connector    cryptography        opcode              threading\n",
      "_mysqlxpb           csv                 openpyxl            threadpoolctl\n",
      "_nsis               ctypes              operator            tifffile\n",
      "_opcode             curl                optparse            time\n",
      "_operator           curses              os                  timeit\n",
      "_osx_support        cwp                 packaging           timer\n",
      "_overlapped         cycler              pandas              tkinter\n",
      "_pickle             cython              pandocfilters       tlz\n",
      "_py_abc             cythonmagic         paramiko            token\n",
      "_pydecimal          cytoolz             parser              tokenize\n",
      "_pyio               dask                parso               toml\n",
      "_pyrsistent_version dataclasses         partd               toolz\n",
      "_pytest             datetime            past                tornado\n",
      "_queue              dateutil            path                tqdm\n",
      "_random             dbi                 pathlib             trace\n",
      "_sha1               dbm                 pathlib2            traceback\n",
      "_sha256             dde                 pathtools           tracemalloc\n",
      "_sha3               decimal             patsy               traitlets\n",
      "_sha512             decorator           pdb                 tty\n",
      "_signal             defusedxml          pep8                turtle\n",
      "_sitebuiltins       diff_match_patch    perfmon             turtledemo\n",
      "_socket             difflib             pexpect             types\n",
      "_sqlite3            dis                 pickle              typing\n",
      "_sre                distributed         pickleshare         typing_extensions\n",
      "_ssl                distutils           pickletools         ujson\n",
      "_stat               doctest             pip                 unicodecsv\n",
      "_statistics         docutils            pipes               unicodedata\n",
      "_string             dummy_threading     pkg_resources       unittest\n",
      "_strptime           easy_install        pkginfo             urllib\n",
      "_struct             email               pkgutil             urllib3\n",
      "_symtable           encodings           platform            uu\n",
      "_system_path        ensurepip           plistlib            uuid\n",
      "_testbuffer         entrypoints         pluggy              venv\n",
      "_testcapi           enum                ply                 warnings\n",
      "_testconsole        errno               poplib              watchdog\n",
      "_testimportmultiple et_xmlfile          posixpath           wave\n",
      "_testinternalcapi   fastcache           pprint              wcwidth\n",
      "_testmultiphase     faulthandler        profile             weakref\n",
      "_thread             filecmp             prometheus_client   webbrowser\n",
      "_threading_local    fileinput           prompt_toolkit      webencodings\n",
      "_tkinter            filelock            pstats              werkzeug\n",
      "_tracemalloc        flake8              psutil              wheel\n",
      "_warnings           flask               pty                 widgetsnbextension\n",
      "_weakref            fnmatch             pvectorc            win2kras\n",
      "_weakrefset         formatter           py                  win32api\n",
      "_win32sysloader     fractions           py_compile          win32clipboard\n",
      "_winapi             fsspec              pyclbr              win32com\n",
      "_winxptheme         ftplib              pycodestyle         win32con\n",
      "_xxsubinterpreters  functools           pycosat             win32console\n",
      "_yaml               future              pycparser           win32cred\n",
      "abc                 gc                  pycurl              win32crypt\n",
      "adodbapi            genericpath         pydoc               win32cryptcon\n",
      "afxres              getopt              pydoc_data          win32ctypes\n",
      "aifc                getpass             pydocstyle          win32event\n",
      "alabaster           gettext             pyexpat             win32evtlog\n",
      "anaconda_navigator  gevent              pyflakes            win32evtlogutil\n",
      "anaconda_project    glob                pygments            win32file\n",
      "antigravity         glob2               pylab               win32gui\n",
      "argh                greenlet            pylint              win32gui_struct\n",
      "argon2              gzip                pyls                win32help\n",
      "argparse            h5py                pyls_jsonrpc        win32inet\n",
      "array               hashlib             pyodbc              win32inetcon\n",
      "asn1crypto          heapdict            pyparsing           win32job\n",
      "ast                 heapq               pyreadline          win32lz\n",
      "astroid             hmac                pyrsistent          win32net\n",
      "astropy             html                pytest              win32netcon\n",
      "async_generator     html5lib            pythoncom           win32pdh\n",
      "asynchat            http                pytz                win32pdhquery\n",
      "asyncio             idlelib             pywin               win32pdhutil\n",
      "asyncore            idna                pywin32_bootstrap   win32pipe\n",
      "atexit              imageio             pywin32_testutil    win32print\n",
      "atomicwrites        imagesize           pywintypes          win32process\n",
      "attr                imaplib             pywt                win32profile\n",
      "audioop             imghdr              pyximport           win32ras\n",
      "autopep8            imp                 qdarkstyle          win32rcparser\n",
      "autoreload          importlib           qtawesome           win32security\n",
      "babel               importlib_metadata  qtconsole           win32service\n",
      "backcall            iniconfig           qtpy                win32serviceutil\n",
      "backports           inspect             queue               win32timezone\n",
      "base64              intervaltree        quopri              win32trace\n",
      "bcrypt              io                  random              win32traceutil\n",
      "bdb                 ipaddress           rasutil             win32transaction\n",
      "binascii            ipykernel           re                  win32ts\n",
      "binhex              ipykernel_launcher  readline            win32ui\n",
      "binstar_client      ipython_genutils    regcheck            win32uiole\n",
      "bisect              ipywidgets          regex               win32verstamp\n",
      "bitarray            isapi               regutil             win32wnet\n",
      "bkcharts            isort               reprlib             win_inet_pton\n",
      "bleach              isympy              requests            win_unicode_console\n",
      "bokeh               itertools           rlcompleter         wincertstore\n",
      "boto                itsdangerous        rmagic              winerror\n",
      "bottleneck          jdcal               rope                winioctlcon\n",
      "brain_argparse      jedi                rtree               winnt\n",
      "brain_attrs         jinja2              ruamel_yaml         winperf\n",
      "brain_boto3         joblib              run                 winpty\n",
      "brain_builtin_inference json                runpy               winreg\n",
      "brain_collections   json5               sched               winsound\n",
      "brain_crypt         jsonschema          scipy               winxpgui\n",
      "brain_curses        jupyter             scripts             winxptheme\n",
      "brain_dataclasses   jupyter_client      seaborn             wrapt\n",
      "brain_dateutil      jupyter_console     secrets             wsgiref\n",
      "brain_fstrings      jupyter_core        select              xdrlib\n",
      "brain_functools     jupyterlab          selectors           xlrd\n",
      "brain_gi            jupyterlab_pygments send2trash          xlsxwriter\n",
      "brain_hashlib       jupyterlab_server   servicemanager      xlwings\n",
      "brain_http          keyring             setuptools          xlwt\n",
      "brain_io            keyword             shelve              xml\n",
      "brain_mechanize     kiwisolver          shlex               xmlrpc\n",
      "brain_multiprocessing lazy_object_proxy   shutil              xmltodict\n",
      "brain_namedtuple_enum lib2to3             signal              xxsubtype\n",
      "brain_nose          libarchive          simplegeneric       yaml\n",
      "brain_numpy_core_fromnumeric libfuturize         singledispatch      yapf\n",
      "brain_numpy_core_function_base libpasteurize       singledispatch_helpers yapftests\n",
      "brain_numpy_core_multiarray lief                sip                 zict\n",
      "brain_numpy_core_numeric linecache           sipconfig           zipapp\n",
      "brain_numpy_core_numerictypes llvmlite            sipdistutils        zipfile\n",
      "brain_numpy_core_umath locale              site                zipimport\n",
      "brain_numpy_ndarray locket              six                 zipp\n",
      "brain_numpy_random_mtrand logging             skimage             zlib\n",
      "brain_numpy_utils   lxml                sklearn             zmq\n",
      "brain_pkg_resources lzma                smtpd               zope\n",
      "brain_pytest        mailbox             smtplib             \n",
      "brain_qt            mailcap             sndhdr              \n",
      "\n",
      "Enter any module name to get more help.  Or, type \"modules spam\" to search\n",
      "for modules whose name or summary contain the string \"spam\".\n",
      "\n"
     ]
    }
   ],
   "source": [
    "help('modules')"
   ]
  },
  {
   "cell_type": "code",
   "execution_count": 18,
   "metadata": {},
   "outputs": [],
   "source": [
    "import math"
   ]
  },
  {
   "cell_type": "code",
   "execution_count": 19,
   "metadata": {},
   "outputs": [
    {
     "data": {
      "text/plain": [
       "120"
      ]
     },
     "execution_count": 19,
     "metadata": {},
     "output_type": "execute_result"
    },
    {
     "data": {
      "text/plain": [
       "9"
      ]
     },
     "execution_count": 19,
     "metadata": {},
     "output_type": "execute_result"
    },
    {
     "data": {
      "text/plain": [
       "8"
      ]
     },
     "execution_count": 19,
     "metadata": {},
     "output_type": "execute_result"
    },
    {
     "data": {
      "text/plain": [
       "8.54123"
      ]
     },
     "execution_count": 19,
     "metadata": {},
     "output_type": "execute_result"
    },
    {
     "data": {
      "text/plain": [
       "8.54123"
      ]
     },
     "execution_count": 19,
     "metadata": {},
     "output_type": "execute_result"
    },
    {
     "data": {
      "text/plain": [
       "512"
      ]
     },
     "execution_count": 19,
     "metadata": {},
     "output_type": "execute_result"
    },
    {
     "data": {
      "text/plain": [
       "512.0"
      ]
     },
     "execution_count": 19,
     "metadata": {},
     "output_type": "execute_result"
    },
    {
     "data": {
      "text/plain": [
       "3.141592653589793"
      ]
     },
     "execution_count": 19,
     "metadata": {},
     "output_type": "execute_result"
    },
    {
     "data": {
      "text/plain": [
       "2.718281828459045"
      ]
     },
     "execution_count": 19,
     "metadata": {},
     "output_type": "execute_result"
    },
    {
     "data": {
      "text/plain": [
       "15.811388300841896"
      ]
     },
     "execution_count": 19,
     "metadata": {},
     "output_type": "execute_result"
    }
   ],
   "source": [
    "math.factorial(5)\n",
    "math.ceil(8.1)\n",
    "math.floor(8.9)\n",
    "abs(-8.54123)\n",
    "math.fabs(-8.54123)\n",
    "pow(8,3)\n",
    "math.pow(8,3)\n",
    "math.pi\n",
    "math.e\n",
    "math.sqrt(250)"
   ]
  },
  {
   "cell_type": "code",
   "execution_count": 20,
   "metadata": {},
   "outputs": [],
   "source": [
    "import random"
   ]
  },
  {
   "cell_type": "code",
   "execution_count": 21,
   "metadata": {},
   "outputs": [
    {
     "data": {
      "text/plain": [
       "46"
      ]
     },
     "execution_count": 21,
     "metadata": {},
     "output_type": "execute_result"
    },
    {
     "data": {
      "text/plain": [
       "[6, 3, 4, 2, 8, 1, 8, 6, 3, 5]"
      ]
     },
     "execution_count": 21,
     "metadata": {},
     "output_type": "execute_result"
    }
   ],
   "source": [
    "random.randint(1,50)\n",
    "a = [1,6,8,3,4,8,5,2,6,3]\n",
    "random.shuffle(a)\n",
    "a"
   ]
  },
  {
   "cell_type": "code",
   "execution_count": 22,
   "metadata": {},
   "outputs": [],
   "source": [
    "import time"
   ]
  },
  {
   "cell_type": "code",
   "execution_count": 23,
   "metadata": {},
   "outputs": [
    {
     "data": {
      "text/plain": [
       "1680432737.3293674"
      ]
     },
     "execution_count": 23,
     "metadata": {},
     "output_type": "execute_result"
    }
   ],
   "source": [
    "time.time()"
   ]
  },
  {
   "cell_type": "code",
   "execution_count": 24,
   "metadata": {},
   "outputs": [
    {
     "data": {
      "text/plain": [
       "28007212.302282345"
      ]
     },
     "execution_count": 24,
     "metadata": {},
     "output_type": "execute_result"
    },
    {
     "data": {
      "text/plain": [
       "466786.87170470576"
      ]
     },
     "execution_count": 24,
     "metadata": {},
     "output_type": "execute_result"
    },
    {
     "data": {
      "text/plain": [
       "19449.452987696073"
      ]
     },
     "execution_count": 24,
     "metadata": {},
     "output_type": "execute_result"
    },
    {
     "data": {
      "text/plain": [
       "648.3150995898691"
      ]
     },
     "execution_count": 24,
     "metadata": {},
     "output_type": "execute_result"
    },
    {
     "data": {
      "text/plain": [
       "54.02625829915576"
      ]
     },
     "execution_count": 24,
     "metadata": {},
     "output_type": "execute_result"
    },
    {
     "data": {
      "text/plain": [
       "1968.9737417008441"
      ]
     },
     "execution_count": 24,
     "metadata": {},
     "output_type": "execute_result"
    }
   ],
   "source": [
    "x=time.time()/60\n",
    "x\n",
    "y=x/60\n",
    "y\n",
    "z=y/24\n",
    "z\n",
    "a=z/30\n",
    "a\n",
    "b=a/12\n",
    "b\n",
    "c=2023-b\n",
    "c"
   ]
  },
  {
   "cell_type": "code",
   "execution_count": 25,
   "metadata": {},
   "outputs": [
    {
     "data": {
      "text/plain": [
       "'Sun Apr  2 16:22:19 2023'"
      ]
     },
     "execution_count": 25,
     "metadata": {},
     "output_type": "execute_result"
    }
   ],
   "source": [
    "time.ctime()"
   ]
  },
  {
   "cell_type": "code",
   "execution_count": 26,
   "metadata": {},
   "outputs": [
    {
     "name": "stdout",
     "output_type": "stream",
     "text": [
      "Hello\n",
      "Duniya\n",
      "Mera jagne\n",
      "ka samaya\n",
      "hogaya\n"
     ]
    }
   ],
   "source": [
    "print('Hello')\n",
    "time.sleep(.5)\n",
    "print('Duniya')\n",
    "time.sleep(.5)\n",
    "print('Mera jagne')\n",
    "time.sleep(.5)\n",
    "print('ka samaya')\n",
    "time.sleep(.5)\n",
    "print('hogaya')"
   ]
  },
  {
   "cell_type": "code",
   "execution_count": 27,
   "metadata": {},
   "outputs": [],
   "source": [
    "import os"
   ]
  },
  {
   "cell_type": "code",
   "execution_count": 28,
   "metadata": {},
   "outputs": [
    {
     "data": {
      "text/plain": [
       "'e:\\\\BOARD INFINITY\\\\DS22MAY03\\\\01. PYTHON Module'"
      ]
     },
     "execution_count": 28,
     "metadata": {},
     "output_type": "execute_result"
    }
   ],
   "source": [
    "os.getcwd()"
   ]
  },
  {
   "cell_type": "code",
   "execution_count": 29,
   "metadata": {},
   "outputs": [
    {
     "data": {
      "text/plain": [
       "['.vscode',\n",
       " '01my_first_notebook.ipynb',\n",
       " '02my_first_notebook.ipynb',\n",
       " '03my_first_notebook.ipynb',\n",
       " '04File & Exception Handling.ipynb',\n",
       " '05OOPs.ipynb',\n",
       " '06Iterators, Iterables & Generators.ipynb',\n",
       " '100_days_of_python_programming.ipynb',\n",
       " 'BI_SELF_PACED_LECTURES_NOTES.ipynb',\n",
       " 'GREAT LEARNING',\n",
       " 'Guessing Game.ipynb',\n",
       " 'hacker_rank.ipynb',\n",
       " 'HOMEWORK.ipynb',\n",
       " 'Leap_Year_Prob.ipynb',\n",
       " 'Lecture_3rd.ipynb',\n",
       " 'Lecture_4th.ipynb',\n",
       " 'Patterns.ipynb',\n",
       " 'Practise.ipynb',\n",
       " 'Python Handbook .pdf',\n",
       " 'Python+Self+Paced+Content',\n",
       " 'Python+Self+Paced+Content.zip',\n",
       " 'PYTHON_LOGIC_BUILDING_07.ipynb',\n",
       " 'Python_Problems.ipynb',\n",
       " 'ROSSG CH-1.mp3',\n",
       " 'SAMPLE.docx',\n",
       " 'SELF_PACED',\n",
       " 'TTS.ipynb',\n",
       " '__pycache__']"
      ]
     },
     "execution_count": 29,
     "metadata": {},
     "output_type": "execute_result"
    }
   ],
   "source": [
    "os.listdir()"
   ]
  },
  {
   "attachments": {},
   "cell_type": "markdown",
   "metadata": {},
   "source": [
    "# STRINGS are sequence of characters\n",
    "    In Python specifically, strings are sequence of UNICODE characters.\n",
    "- Creating Strings\n",
    "- Accessing Strings\n",
    "- Adding Chars to Strings\n",
    "- Editing Strings\n",
    "- Deleting Strings\n",
    "- Operations on Strings\n",
    "- String Functions"
   ]
  },
  {
   "cell_type": "code",
   "execution_count": 30,
   "metadata": {},
   "outputs": [
    {
     "data": {
      "text/plain": [
       "'jai mahakal'"
      ]
     },
     "execution_count": 30,
     "metadata": {},
     "output_type": "execute_result"
    },
    {
     "data": {
      "text/plain": [
       "['jai', 'mahakal']"
      ]
     },
     "execution_count": 30,
     "metadata": {},
     "output_type": "execute_result"
    },
    {
     "data": {
      "text/plain": [
       "['j', 'a', 'i', ' ', 'm', 'a', 'h', 'a', 'k', 'a', 'l']"
      ]
     },
     "execution_count": 30,
     "metadata": {},
     "output_type": "execute_result"
    }
   ],
   "source": [
    "s='jai mahakal'\n",
    "s\n",
    "a=s.split()\n",
    "a\n",
    "b=s.strip()\n",
    "list(b)"
   ]
  },
  {
   "cell_type": "code",
   "execution_count": 31,
   "metadata": {},
   "outputs": [
    {
     "name": "stdout",
     "output_type": "stream",
     "text": [
      "Hello\n",
      "GOD\n",
      "\n",
      "Hello\n",
      "GOD\n",
      "\n",
      "Hello\n",
      "GOD\n",
      "\n",
      "Hello\n",
      "GOD\n",
      "\n",
      "Hello\n",
      "GOD\n",
      "\n"
     ]
    }
   ],
   "source": [
    "i=0\n",
    "while i<5:\n",
    "    print('Hello')\n",
    "    time.sleep(1)\n",
    "    print('GOD')\n",
    "    print('')\n",
    "    time.sleep(1)\n",
    "    i+=1"
   ]
  },
  {
   "attachments": {},
   "cell_type": "markdown",
   "metadata": {},
   "source": [
    "    Strings are Immutable and can be deleted with the help of keyword 'del'."
   ]
  },
  {
   "cell_type": "code",
   "execution_count": 32,
   "metadata": {},
   "outputs": [],
   "source": [
    "del s"
   ]
  },
  {
   "cell_type": "code",
   "execution_count": 33,
   "metadata": {},
   "outputs": [
    {
     "data": {
      "text/plain": [
       "'mera mera'"
      ]
     },
     "execution_count": 33,
     "metadata": {},
     "output_type": "execute_result"
    },
    {
     "data": {
      "text/plain": [
       "'merameramera'"
      ]
     },
     "execution_count": 33,
     "metadata": {},
     "output_type": "execute_result"
    }
   ],
   "source": [
    "s='mera'\n",
    "s+' '+s\n",
    "s*3"
   ]
  },
  {
   "cell_type": "code",
   "execution_count": 34,
   "metadata": {},
   "outputs": [
    {
     "data": {
      "text/plain": [
       "False"
      ]
     },
     "execution_count": 34,
     "metadata": {},
     "output_type": "execute_result"
    }
   ],
   "source": [
    "\"Jai\" == 'Ram'"
   ]
  },
  {
   "cell_type": "code",
   "execution_count": 35,
   "metadata": {},
   "outputs": [
    {
     "data": {
      "text/plain": [
       "True"
      ]
     },
     "execution_count": 35,
     "metadata": {},
     "output_type": "execute_result"
    }
   ],
   "source": [
    "'jai' != 'ram'"
   ]
  },
  {
   "cell_type": "code",
   "execution_count": 36,
   "metadata": {},
   "outputs": [
    {
     "data": {
      "text/plain": [
       "False"
      ]
     },
     "execution_count": 36,
     "metadata": {},
     "output_type": "execute_result"
    }
   ],
   "source": [
    "'Jai' > 'Ram'\n",
    "# Lexiographically (According to dictionary) where A is greatest and Z is smallest. A -> Z"
   ]
  },
  {
   "cell_type": "code",
   "execution_count": 37,
   "metadata": {},
   "outputs": [
    {
     "data": {
      "text/plain": [
       "True"
      ]
     },
     "execution_count": 37,
     "metadata": {},
     "output_type": "execute_result"
    }
   ],
   "source": [
    "'Jai' < 'Ram'"
   ]
  },
  {
   "cell_type": "code",
   "execution_count": 38,
   "metadata": {},
   "outputs": [
    {
     "data": {
      "text/plain": [
       "''"
      ]
     },
     "execution_count": 38,
     "metadata": {},
     "output_type": "execute_result"
    },
    {
     "data": {
      "text/plain": [
       "'1'"
      ]
     },
     "execution_count": 38,
     "metadata": {},
     "output_type": "execute_result"
    },
    {
     "data": {
      "text/plain": [
       "'2'"
      ]
     },
     "execution_count": 38,
     "metadata": {},
     "output_type": "execute_result"
    },
    {
     "data": {
      "text/plain": [
       "True"
      ]
     },
     "execution_count": 38,
     "metadata": {},
     "output_type": "execute_result"
    },
    {
     "data": {
      "text/plain": [
       "False"
      ]
     },
     "execution_count": 38,
     "metadata": {},
     "output_type": "execute_result"
    }
   ],
   "source": [
    "'' and 'kal'\n",
    "# '' empty string is false for logical operations.\n",
    "'1' or '2'\n",
    "'1' and '2'\n",
    "not \"\"\n",
    "not 'lasdkjasd'"
   ]
  },
  {
   "attachments": {},
   "cell_type": "markdown",
   "metadata": {},
   "source": [
    "### String Functions\n",
    "    Common Functions\n",
    "- Len\n",
    "- Max\n",
    "- Min\n",
    "- Sorted"
   ]
  },
  {
   "cell_type": "code",
   "execution_count": 39,
   "metadata": {},
   "outputs": [
    {
     "data": {
      "text/plain": [
       "13"
      ]
     },
     "execution_count": 39,
     "metadata": {},
     "output_type": "execute_result"
    },
    {
     "data": {
      "text/plain": [
       "'r'"
      ]
     },
     "execution_count": 39,
     "metadata": {},
     "output_type": "execute_result"
    },
    {
     "data": {
      "text/plain": [
       "' '"
      ]
     },
     "execution_count": 39,
     "metadata": {},
     "output_type": "execute_result"
    },
    {
     "data": {
      "text/plain": [
       "[' ', ' ', 'A', 'a', 'a', 'd', 'g', 'g', 'g', 'h', 'i', 'l', 'r']"
      ]
     },
     "execution_count": 39,
     "metadata": {},
     "output_type": "execute_result"
    },
    {
     "data": {
      "text/plain": [
       "32"
      ]
     },
     "execution_count": 39,
     "metadata": {},
     "output_type": "execute_result"
    },
    {
     "data": {
      "text/plain": [
       "['r', 'l', 'i', 'h', 'g', 'g', 'g', 'd', 'a', 'a', 'A', ' ', ' ']"
      ]
     },
     "execution_count": 39,
     "metadata": {},
     "output_type": "execute_result"
    }
   ],
   "source": [
    "s='adh gAl gagri'\n",
    "len(s)\n",
    "max(s)\n",
    "min(s)\n",
    "sorted(s)\n",
    "ord(\" \")\n",
    "sorted(s,reverse=True)"
   ]
  },
  {
   "attachments": {},
   "cell_type": "markdown",
   "metadata": {},
   "source": [
    "### 1. Capitalize/Title/Upper/Lower/Swapcase"
   ]
  },
  {
   "cell_type": "code",
   "execution_count": 40,
   "metadata": {},
   "outputs": [
    {
     "data": {
      "text/plain": [
       "'adh gAl gagri'"
      ]
     },
     "execution_count": 40,
     "metadata": {},
     "output_type": "execute_result"
    },
    {
     "data": {
      "text/plain": [
       "'Adh gal gagri'"
      ]
     },
     "execution_count": 40,
     "metadata": {},
     "output_type": "execute_result"
    },
    {
     "data": {
      "text/plain": [
       "'ADH GAL GAGRI'"
      ]
     },
     "execution_count": 40,
     "metadata": {},
     "output_type": "execute_result"
    },
    {
     "data": {
      "text/plain": [
       "'Adh Gal Gagri'"
      ]
     },
     "execution_count": 40,
     "metadata": {},
     "output_type": "execute_result"
    },
    {
     "data": {
      "text/plain": [
       "'adh gal gagri'"
      ]
     },
     "execution_count": 40,
     "metadata": {},
     "output_type": "execute_result"
    },
    {
     "data": {
      "text/plain": [
       "'ADH GaL GAGRI'"
      ]
     },
     "execution_count": 40,
     "metadata": {},
     "output_type": "execute_result"
    }
   ],
   "source": [
    "s\n",
    "s.capitalize()\n",
    "s.upper()\n",
    "s.title()\n",
    "s.lower()\n",
    "s.swapcase()"
   ]
  },
  {
   "attachments": {},
   "cell_type": "markdown",
   "metadata": {},
   "source": [
    "### 2. Count"
   ]
  },
  {
   "cell_type": "code",
   "execution_count": 41,
   "metadata": {},
   "outputs": [
    {
     "data": {
      "text/plain": [
       "2"
      ]
     },
     "execution_count": 41,
     "metadata": {},
     "output_type": "execute_result"
    },
    {
     "data": {
      "text/plain": [
       "2"
      ]
     },
     "execution_count": 41,
     "metadata": {},
     "output_type": "execute_result"
    }
   ],
   "source": [
    "s.count('a')\n",
    "s.lower().count('ga')"
   ]
  },
  {
   "attachments": {},
   "cell_type": "markdown",
   "metadata": {},
   "source": [
    "### 3. Find/Index"
   ]
  },
  {
   "cell_type": "code",
   "execution_count": 42,
   "metadata": {},
   "outputs": [
    {
     "data": {
      "text/plain": [
       "0"
      ]
     },
     "execution_count": 42,
     "metadata": {},
     "output_type": "execute_result"
    },
    {
     "data": {
      "text/plain": [
       "8"
      ]
     },
     "execution_count": 42,
     "metadata": {},
     "output_type": "execute_result"
    },
    {
     "data": {
      "text/plain": [
       "-1"
      ]
     },
     "execution_count": 42,
     "metadata": {},
     "output_type": "execute_result"
    },
    {
     "data": {
      "text/plain": [
       "6"
      ]
     },
     "execution_count": 42,
     "metadata": {},
     "output_type": "execute_result"
    }
   ],
   "source": [
    "s.find('a')\n",
    "s.find('ga')\n",
    "s.find('x')\n",
    "s.index('l')\n",
    "# s.index('x')  \n",
    "# preffer to use find bcz it don't give error even if the searched string is present inside the original string or not"
   ]
  },
  {
   "attachments": {},
   "cell_type": "markdown",
   "metadata": {},
   "source": [
    "### 4. endswith/stratswith"
   ]
  },
  {
   "cell_type": "code",
   "execution_count": 43,
   "metadata": {},
   "outputs": [
    {
     "data": {
      "text/plain": [
       "False"
      ]
     },
     "execution_count": 43,
     "metadata": {},
     "output_type": "execute_result"
    },
    {
     "data": {
      "text/plain": [
       "True"
      ]
     },
     "execution_count": 43,
     "metadata": {},
     "output_type": "execute_result"
    }
   ],
   "source": [
    "s.endswith('if')\n",
    "s.startswith('ad')"
   ]
  },
  {
   "attachments": {},
   "cell_type": "markdown",
   "metadata": {},
   "source": [
    "### 5. format"
   ]
  },
  {
   "cell_type": "code",
   "execution_count": 7,
   "metadata": {},
   "outputs": [
    {
     "data": {
      "text/plain": [
       "'raat mei bhoot ka raaj hota hai.'"
      ]
     },
     "execution_count": 7,
     "metadata": {},
     "output_type": "execute_result"
    },
    {
     "data": {
      "text/plain": [
       "'raat mei hai ka raaj hota bhoot.'"
      ]
     },
     "execution_count": 7,
     "metadata": {},
     "output_type": "execute_result"
    },
    {
     "data": {
      "text/plain": [
       "'raat mei bhoot ka raaj hota hai.'"
      ]
     },
     "execution_count": 7,
     "metadata": {},
     "output_type": "execute_result"
    },
    {
     "data": {
      "text/plain": [
       "'raat mei hai ka raaj hota bhoot.'"
      ]
     },
     "execution_count": 7,
     "metadata": {},
     "output_type": "execute_result"
    },
    {
     "data": {
      "text/plain": [
       "'raat mei hai ka raaj hota 60.'"
      ]
     },
     "execution_count": 7,
     "metadata": {},
     "output_type": "execute_result"
    },
    {
     "data": {
      "text/plain": [
       "'Hello! Everyone This is Abhishek and he is 25 years old.'"
      ]
     },
     "execution_count": 7,
     "metadata": {},
     "output_type": "execute_result"
    },
    {
     "name": "stdout",
     "output_type": "stream",
     "text": [
      "My name is Abhishek, My dream company is Google\n",
      "My name is Abhishek, My dream company is Google\n",
      "My name is Maa, My dream company is Radhe\n",
      "My name is Abhishek My dream company is Google\n"
     ]
    }
   ],
   "source": [
    "'raat mei {} ka raaj hota {}.'.format('bhoot','hai')\n",
    "'raat mei {1} ka raaj hota {0}.'.format('bhoot','hai')\n",
    "'raat mei {name} ka raaj hota {age}.'.format(name = 'bhoot',age = 'hai')\n",
    "'raat mei {age} ka raaj hota {name}.'.format(name = 'bhoot',age = 'hai')\n",
    "'raat mei {age} ka raaj hota {weight}.'.format(name = 'bhoot',age = 'hai',weight = 60)\n",
    "name = 'Abhishek'\n",
    "age = 25\n",
    "f'Hello! Everyone This is {name} and he is {age} years old.' # Also Example format or f-string\n",
    "name = 'Abhishek'\n",
    "company = 'Google'\n",
    "print(f\"My name is {name}, My dream company is {company}\")\n",
    "print(\"My name is {}, My dream company is {}\".format(name,company))\n",
    "print(\"My name is {company}, My dream company is {name}\".format(name='Radhe',company='Maa'))\n",
    "print('My name is %s' % name,'My dream company is %s' % company)"
   ]
  },
  {
   "attachments": {},
   "cell_type": "markdown",
   "metadata": {},
   "source": [
    "### 6. isalnum/isalpha/isdigit/isdecimal/isidentifier"
   ]
  },
  {
   "cell_type": "code",
   "execution_count": 45,
   "metadata": {},
   "outputs": [
    {
     "data": {
      "text/plain": [
       "True"
      ]
     },
     "execution_count": 45,
     "metadata": {},
     "output_type": "execute_result"
    },
    {
     "data": {
      "text/plain": [
       "False"
      ]
     },
     "execution_count": 45,
     "metadata": {},
     "output_type": "execute_result"
    },
    {
     "data": {
      "text/plain": [
       "True"
      ]
     },
     "execution_count": 45,
     "metadata": {},
     "output_type": "execute_result"
    },
    {
     "data": {
      "text/plain": [
       "True"
      ]
     },
     "execution_count": 45,
     "metadata": {},
     "output_type": "execute_result"
    },
    {
     "data": {
      "text/plain": [
       "False"
      ]
     },
     "execution_count": 45,
     "metadata": {},
     "output_type": "execute_result"
    },
    {
     "data": {
      "text/plain": [
       "True"
      ]
     },
     "execution_count": 45,
     "metadata": {},
     "output_type": "execute_result"
    },
    {
     "data": {
      "text/plain": [
       "False"
      ]
     },
     "execution_count": 45,
     "metadata": {},
     "output_type": "execute_result"
    },
    {
     "data": {
      "text/plain": [
       "False"
      ]
     },
     "execution_count": 45,
     "metadata": {},
     "output_type": "execute_result"
    },
    {
     "data": {
      "text/plain": [
       "True"
      ]
     },
     "execution_count": 45,
     "metadata": {},
     "output_type": "execute_result"
    }
   ],
   "source": [
    "'JaiSriRam20'.isalnum()\n",
    "'jaiSriRam20'.isalpha()\n",
    "'jaiSriRam'.isalpha()\n",
    "'20'.isdigit()\n",
    "'jaiSriRam20'.isdigit()\n",
    "'20'.isdecimal()\n",
    "'20.5'.isdecimal()\n",
    "'jai Sri Ram 20'.isidentifier()\n",
    "'jai_Sri_Ram_20'.isidentifier()"
   ]
  },
  {
   "attachments": {},
   "cell_type": "markdown",
   "metadata": {},
   "source": [
    "### 7. SPLIT"
   ]
  },
  {
   "cell_type": "code",
   "execution_count": 46,
   "metadata": {},
   "outputs": [
    {
     "data": {
      "text/plain": [
       "['1', '2', '3', '4', '5', '9', '2', '4', '5', '2', '4', '8', '2', '7', '2']"
      ]
     },
     "execution_count": 46,
     "metadata": {},
     "output_type": "execute_result"
    },
    {
     "data": {
      "text/plain": [
       "['1 2 3 ', ' 5 9 2 ', '  5  2 ', ' 8 2  7 2']"
      ]
     },
     "execution_count": 46,
     "metadata": {},
     "output_type": "execute_result"
    },
    {
     "data": {
      "text/plain": [
       "['1 2 3 4 ', ' 9 2 4  ', '  2 4 8 2  7 2']"
      ]
     },
     "execution_count": 46,
     "metadata": {},
     "output_type": "execute_result"
    }
   ],
   "source": [
    "\"1 2 3 4 5 9 2 4  5  2 4 8 2  7 2\".split()\n",
    "\"1 2 3 4 5 9 2 4  5  2 4 8 2  7 2\".split('4')\n",
    "\"1 2 3 4 5 9 2 4  5  2 4 8 2  7 2\".split('5')"
   ]
  },
  {
   "attachments": {},
   "cell_type": "markdown",
   "metadata": {},
   "source": [
    "### 8. JOIN"
   ]
  },
  {
   "cell_type": "code",
   "execution_count": 47,
   "metadata": {},
   "outputs": [
    {
     "data": {
      "text/plain": [
       "'Abehhiks'"
      ]
     },
     "execution_count": 47,
     "metadata": {},
     "output_type": "execute_result"
    },
    {
     "data": {
      "text/plain": [
       "'1   2   3   4   5   9   2   4     5     2   4   8   2     7   2'"
      ]
     },
     "execution_count": 47,
     "metadata": {},
     "output_type": "execute_result"
    },
    {
     "data": {
      "text/plain": [
       "'1- -2- -3- -4- -5- -9- -2- -4- - -5- - -2- -4- -8- -2- - -7- -2'"
      ]
     },
     "execution_count": 47,
     "metadata": {},
     "output_type": "execute_result"
    },
    {
     "data": {
      "text/plain": [
       "'1/ /2/ /3/ /4/ /5/ /9/ /2/ /4/ / /5/ / /2/ /4/ /8/ /2/ / /7/ /2'"
      ]
     },
     "execution_count": 47,
     "metadata": {},
     "output_type": "execute_result"
    }
   ],
   "source": [
    "''.join(sorted('Abhishek'))\n",
    "' '.join(\"1 2 3 4 5 9 2 4  5  2 4 8 2  7 2\")\n",
    "'-'.join(\"1 2 3 4 5 9 2 4  5  2 4 8 2  7 2\")\n",
    "'/'.join(\"1 2 3 4 5 9 2 4  5  2 4 8 2  7 2\")"
   ]
  },
  {
   "attachments": {},
   "cell_type": "markdown",
   "metadata": {},
   "source": [
    "### 9. REPLACE"
   ]
  },
  {
   "cell_type": "code",
   "execution_count": 48,
   "metadata": {},
   "outputs": [
    {
     "data": {
      "text/plain": [
       "'1 2 3 4 - 9 2 4  -  2 4 8 2  7 2'"
      ]
     },
     "execution_count": 48,
     "metadata": {},
     "output_type": "execute_result"
    }
   ],
   "source": [
    "\"1 2 3 4 5 9 2 4  5  2 4 8 2  7 2\".replace('5','-')"
   ]
  },
  {
   "attachments": {},
   "cell_type": "markdown",
   "metadata": {},
   "source": [
    "### 10. STRIP"
   ]
  },
  {
   "cell_type": "code",
   "execution_count": 2,
   "metadata": {},
   "outputs": [
    {
     "data": {
      "text/plain": [
       "'aka'"
      ]
     },
     "execution_count": 2,
     "metadata": {},
     "output_type": "execute_result"
    }
   ],
   "source": [
    "n='      aka      '\n",
    "'Hi'+n\n",
    "n.strip()"
   ]
  },
  {
   "attachments": {},
   "cell_type": "markdown",
   "metadata": {},
   "source": [
    "# LISTS sequences"
   ]
  },
  {
   "cell_type": "code",
   "execution_count": 52,
   "metadata": {},
   "outputs": [
    {
     "data": {
      "text/plain": [
       "[1, 2, 55, 7, 'apple', 'sun']"
      ]
     },
     "execution_count": 52,
     "metadata": {},
     "output_type": "execute_result"
    },
    {
     "data": {
      "text/plain": [
       "2"
      ]
     },
     "execution_count": 52,
     "metadata": {},
     "output_type": "execute_result"
    },
    {
     "data": {
      "text/plain": [
       "'apple'"
      ]
     },
     "execution_count": 52,
     "metadata": {},
     "output_type": "execute_result"
    },
    {
     "data": {
      "text/plain": [
       "[55, 7, 'apple']"
      ]
     },
     "execution_count": 52,
     "metadata": {},
     "output_type": "execute_result"
    }
   ],
   "source": [
    "L=[1,2,55,7,'apple','sun'] # Heterogenous(different datatypes can be stored unlike in ARRAY)\n",
    "L\n",
    "L[1]\n",
    "L[-2]\n",
    "L[2:5]"
   ]
  },
  {
   "attachments": {},
   "cell_type": "markdown",
   "metadata": {},
   "source": [
    "    What to Learn In List.\n",
    "1. What is LIST?\n",
    "- container datatype which can store heterogenous(different datatypes) items\n",
    "2. List VS Array\n",
    "- list can store heterogenous(different datatypes) items but Array can not\n",
    "- arrays are faster than lists because \n",
    "- items of array are assigned in side by side memory location but list items are scattered in memory\n",
    "3. Create\n",
    "- a = []\n",
    "- a = list()\n",
    "4. Access\n",
    "- a[index number]\n",
    "- a[index number][index number]...  for multilevel list\n",
    "- indexing can be both positive OR negative\n",
    "5. Edit\n",
    "- a[index number] = new value\n",
    "6. Add\n",
    "- append(add only one item)\n",
    "- extend(can add 1 or more item)\n",
    "- insert(is used to add item at a desired location)\n",
    "7. Delete\n",
    "- del(can del whole list or a particular item using its index location) \n",
    "- remove(is used to delete an item whose value is known)\n",
    "- pop(deletes an item at the end of a list and returns it)\n",
    "- clear(is used to delete all the items present in a list and returns a empty list)\n",
    "8. Operations\n",
    "- addition(concatenation), multiplication, looping, membership operations\n",
    "9. Functions\n",
    "- len(), min(), max(), soretd(), sort()(permanent change), index(), etc"
   ]
  },
  {
   "cell_type": "code",
   "execution_count": 25,
   "metadata": {},
   "outputs": [
    {
     "data": {
      "text/plain": [
       "'Mene Mehnat To Ki Aur Yaha Pohoch Gaya'"
      ]
     },
     "execution_count": 25,
     "metadata": {},
     "output_type": "execute_result"
    }
   ],
   "source": [
    "# Alternative for .title() function\n",
    "#  Approach 1\n",
    "a = \"Mene mehnat to ki aur yaha pohoch gaya\"\n",
    "y = \"\"\n",
    "z = \"\"\n",
    "for i in a.split():\n",
    "    x= i.capitalize()\n",
    "    y= x\n",
    "    z = z + \" \" + y\n",
    "z.strip()"
   ]
  },
  {
   "cell_type": "code",
   "execution_count": 26,
   "metadata": {},
   "outputs": [
    {
     "name": "stdout",
     "output_type": "stream",
     "text": [
      "['I', 'Have', 'To', 'Work', 'Hard', 'To', 'Make', 'My', 'Future', 'Great']\n",
      "I Have To Work Hard To Make My Future Great\n"
     ]
    }
   ],
   "source": [
    "# Alternative for .title() function\n",
    "#  Approach 2\n",
    "sample = 'i have to work hard to make my future great'\n",
    "L = []\n",
    "for i in sample.split():\n",
    "    # print(i.capitalize())\n",
    "    L.append(i.capitalize())\n",
    "print(L)\n",
    "print(' '.join(L))"
   ]
  },
  {
   "cell_type": "code",
   "execution_count": 32,
   "metadata": {},
   "outputs": [
    {
     "data": {
      "text/plain": [
       "'kumarabh57'"
      ]
     },
     "execution_count": 32,
     "metadata": {},
     "output_type": "execute_result"
    },
    {
     "data": {
      "text/plain": [
       "str"
      ]
     },
     "execution_count": 32,
     "metadata": {},
     "output_type": "execute_result"
    },
    {
     "name": "stdout",
     "output_type": "stream",
     "text": [
      "kumarabh57\n"
     ]
    },
    {
     "data": {
      "text/plain": [
       "str"
      ]
     },
     "execution_count": 32,
     "metadata": {},
     "output_type": "execute_result"
    }
   ],
   "source": [
    "'kumarabh57@gmail.com'.split('@')[0] # My Approach\n",
    "type('kumarabh57@gmail.com'.split('@')[0])\n",
    "print('kumarabh57@gmail.com'[:'kumarabh57@gmail.com'.find('@')]) # Course Approach\n",
    "type('kumarabh57@gmail.com'[:'kumarabh57@gmail.com'.find('@')])"
   ]
  },
  {
   "cell_type": "code",
   "execution_count": 41,
   "metadata": {},
   "outputs": [
    {
     "name": "stdout",
     "output_type": "stream",
     "text": [
      "[1, 2, 3, 4, 5, 8, 9, 12, 214, 58, 93]\n"
     ]
    }
   ],
   "source": [
    "# Removing Duplicacy\n",
    "# Approach 1\n",
    "z = [1,2,1,3,4,3,8,2]\n",
    "z = [12,8,2,58,2,8,3,9,2,3,2,5,3,8,214,4,93,1,]\n",
    "print(list(set(z)))"
   ]
  },
  {
   "cell_type": "code",
   "execution_count": 42,
   "metadata": {},
   "outputs": [
    {
     "data": {
      "text/plain": [
       "[12, 8, 2, 58, 3, 9, 5, 214, 4, 93, 1]"
      ]
     },
     "execution_count": 42,
     "metadata": {},
     "output_type": "execute_result"
    }
   ],
   "source": [
    "# Removing Duplicacy\n",
    "# Approach 2\n",
    "L = []\n",
    "for i in z:\n",
    "    if i not in L:\n",
    "        L.append(i)\n",
    "L        "
   ]
  },
  {
   "attachments": {},
   "cell_type": "markdown",
   "metadata": {},
   "source": [
    "# TUPLES are also sequances\n",
    "    What to Learn In TUPLES.\n",
    "1. What is TUPLE?\n",
    "- container datatype which can store heterogenous(different datatypes) items \n",
    "2. Tuple VS Array\n",
    "- tuple can store heterogenous(different datatypes) items but Array can not\n",
    "- arrays are faster than tuples because \n",
    "- items of array are assigned in side by side memory location but tuple items are scattered in memory\n",
    "3. Create\n",
    "- a = ()\n",
    "- a = tuple()\n",
    "- a = ('xyz',) making a tuple with single item is different\n",
    "4. Access\n",
    "- a[index number]\n",
    "- a[index number][index number]...  for multilevel list\n",
    "- indexing can be both positive OR negative\n",
    "5. Edit\n",
    "- a[index number] = new value  (***Will give error bcz tuples are immutable***)\n",
    "6. Add\n",
    "- not possible bcz of immutability\n",
    "7. Delete\n",
    "- del(can del whole tuple) \n",
    "8. Operations\n",
    "- addition(concatenation), multiplication, looping, membership operations\n",
    "9. Functions\n",
    "- len(), min(), max(), soretd(), sort()(permanent change), index(), etc\n",
    "\n",
    "    ***TUPLES are read_only datatype***"
   ]
  },
  {
   "cell_type": "code",
   "execution_count": 47,
   "metadata": {},
   "outputs": [
    {
     "data": {
      "text/plain": [
       "()"
      ]
     },
     "execution_count": 47,
     "metadata": {},
     "output_type": "execute_result"
    },
    {
     "data": {
      "text/plain": [
       "(1, 5, 2, 3)"
      ]
     },
     "execution_count": 47,
     "metadata": {},
     "output_type": "execute_result"
    },
    {
     "data": {
      "text/plain": [
       "('x', 'y', 'z')"
      ]
     },
     "execution_count": 47,
     "metadata": {},
     "output_type": "execute_result"
    },
    {
     "data": {
      "text/plain": [
       "('x', 'y', 'z')"
      ]
     },
     "execution_count": 47,
     "metadata": {},
     "output_type": "execute_result"
    },
    {
     "data": {
      "text/plain": [
       "('xyz',)"
      ]
     },
     "execution_count": 47,
     "metadata": {},
     "output_type": "execute_result"
    }
   ],
   "source": [
    "a = ()\n",
    "a\n",
    "b = (1,5,2,3)\n",
    "b\n",
    "c = tuple('xyz')\n",
    "c\n",
    "d = tuple('xyz',)\n",
    "d\n",
    "e = ('xyz',)\n",
    "e\n",
    "del e"
   ]
  },
  {
   "attachments": {},
   "cell_type": "markdown",
   "metadata": {},
   "source": [
    "# SETS are also sequances\n",
    "    What to Learn In SETS.\n",
    "1. What is TUPLE?\n",
    "- container datatype which can store heterogenous(different datatypes) items except mutable datatypes \n",
    "2. Sets VS Array\n",
    "- no camparison\n",
    "3. Create\n",
    "- a = set()    ***EMPTY SET*** simply can't write a={}\n",
    "- a = set{item,item,..}\n",
    "4. Access\n",
    "- not possible bcz sets don't allow indexing\n",
    "- they follow HASHING(Algorithm) which is an advance technique\n",
    "5. Edit\n",
    "- a[index number] = new value  (***We actually can not edit sets though they are mutable datatypes***)\n",
    "6. Add\n",
    "- add(using add we can add items in set)\n",
    "7. Delete\n",
    "- del(can del whole list) \n",
    "- remove(is used to delete an item whose value is known)\n",
    "- pop(deletes an item at the end(according to HASHING) of a set and returns it)\n",
    "- clear(is used to delete all the items present in a list and returns a empty list)\n",
    "8. Operations\n",
    "- looping, membership operations\n",
    "9. Functions\n",
    "- len(), min(), max(), soretd()\n",
    "- set exclusive functions : union(), intersection(), difference(), symmetric_difference(), isdisjoint(), issubset(), issuperset()"
   ]
  },
  {
   "attachments": {},
   "cell_type": "markdown",
   "metadata": {},
   "source": [
    " ##### ***FOUR MAJOR RULES OF SET***   \n",
    "    1. Sets do not allow duplicates\n",
    "    2. Sets have no indexing/slicing\n",
    "    3. Sets don't allow muttable datatypes\n",
    "    4. Set itself is mutable datatype"
   ]
  },
  {
   "cell_type": "code",
   "execution_count": 56,
   "metadata": {},
   "outputs": [
    {
     "data": {
      "text/plain": [
       "{}"
      ]
     },
     "execution_count": 56,
     "metadata": {},
     "output_type": "execute_result"
    },
    {
     "data": {
      "text/plain": [
       "dict"
      ]
     },
     "execution_count": 56,
     "metadata": {},
     "output_type": "execute_result"
    },
    {
     "data": {
      "text/plain": [
       "set()"
      ]
     },
     "execution_count": 56,
     "metadata": {},
     "output_type": "execute_result"
    },
    {
     "data": {
      "text/plain": [
       "set"
      ]
     },
     "execution_count": 56,
     "metadata": {},
     "output_type": "execute_result"
    },
    {
     "data": {
      "text/plain": [
       "{1, 2, 4, 5, 'k'}"
      ]
     },
     "execution_count": 56,
     "metadata": {},
     "output_type": "execute_result"
    },
    {
     "data": {
      "text/plain": [
       "{(1, 2, 3, 3), 5, True, 'j'}"
      ]
     },
     "execution_count": 56,
     "metadata": {},
     "output_type": "execute_result"
    },
    {
     "ename": "TypeError",
     "evalue": "unhashable type: 'list'",
     "output_type": "error",
     "traceback": [
      "\u001b[1;31m---------------------------------------------------------------------------\u001b[0m",
      "\u001b[1;31mTypeError\u001b[0m                                 Traceback (most recent call last)",
      "\u001b[1;32m<ipython-input-56-727224041e1e>\u001b[0m in \u001b[0;36m<module>\u001b[1;34m\u001b[0m\n\u001b[0;32m      9\u001b[0m \u001b[0md\u001b[0m \u001b[1;33m=\u001b[0m \u001b[1;33m{\u001b[0m\u001b[1;33m(\u001b[0m\u001b[1;36m1\u001b[0m\u001b[1;33m,\u001b[0m\u001b[1;36m2\u001b[0m\u001b[1;33m,\u001b[0m\u001b[1;36m3\u001b[0m\u001b[1;33m,\u001b[0m\u001b[1;36m3\u001b[0m\u001b[1;33m)\u001b[0m\u001b[1;33m,\u001b[0m\u001b[1;36m5\u001b[0m\u001b[1;33m,\u001b[0m\u001b[1;34m'j'\u001b[0m\u001b[1;33m,\u001b[0m\u001b[1;32mTrue\u001b[0m\u001b[1;33m}\u001b[0m\u001b[1;33m\u001b[0m\u001b[1;33m\u001b[0m\u001b[0m\n\u001b[0;32m     10\u001b[0m \u001b[0md\u001b[0m\u001b[1;33m\u001b[0m\u001b[1;33m\u001b[0m\u001b[0m\n\u001b[1;32m---> 11\u001b[1;33m \u001b[0me\u001b[0m \u001b[1;33m=\u001b[0m \u001b[1;33m{\u001b[0m\u001b[1;33m[\u001b[0m\u001b[1;36m1\u001b[0m\u001b[1;33m,\u001b[0m\u001b[1;36m2\u001b[0m\u001b[1;33m,\u001b[0m\u001b[1;36m3\u001b[0m\u001b[1;33m,\u001b[0m\u001b[1;36m3\u001b[0m\u001b[1;33m]\u001b[0m\u001b[1;33m,\u001b[0m\u001b[1;36m5\u001b[0m\u001b[1;33m,\u001b[0m\u001b[1;34m'j'\u001b[0m\u001b[1;33m,\u001b[0m\u001b[1;32mTrue\u001b[0m\u001b[1;33m}\u001b[0m\u001b[1;33m\u001b[0m\u001b[1;33m\u001b[0m\u001b[0m\n\u001b[0m\u001b[0;32m     12\u001b[0m \u001b[0me\u001b[0m\u001b[1;33m\u001b[0m\u001b[1;33m\u001b[0m\u001b[0m\n",
      "\u001b[1;31mTypeError\u001b[0m: unhashable type: 'list'"
     ]
    }
   ],
   "source": [
    "a = {}\n",
    "a\n",
    "type(a)\n",
    "b = set()\n",
    "b\n",
    "type(b) \n",
    "c = {1,2,4,'k','k',2,1,5}\n",
    "c\n",
    "d = {(1,2,3,3),5,'j',True}\n",
    "d\n",
    "e = {[1,2,3,3],5,'j',True}\n",
    "e"
   ]
  },
  {
   "attachments": {},
   "cell_type": "markdown",
   "metadata": {},
   "source": [
    "# DICTIONARY are also sequences\n",
    "    What to Learn In List.\n",
    "1. What is LIST?\n",
    "- container datatype which can store heterogenous(different datatypes) items\n",
    "2. List VS Array\n",
    "- list can store heterogenous(different datatypes) items but Array can not\n",
    "- arrays are faster than lists because \n",
    "- items of array are assigned in side by side memory location but list items are scattered in memory\n",
    "3. Create\n",
    "- a = []\n",
    "- a = list()\n",
    "4. Access\n",
    "- a[index number]\n",
    "- a[index number][index number]...  for multilevel list\n",
    "- indexing can be both positive OR negative\n",
    "5. Edit\n",
    "- a[index number] = new value\n",
    "6. Add\n",
    "- append(add only one item)\n",
    "- extend(can add 1 or more item)\n",
    "- insert(is used to add item at a desired location)\n",
    "7. Delete\n",
    "- del(can del whole list or a particular item using its index location) \n",
    "- remove(is used to delete an item whose value is known)\n",
    "- pop(deletes an item at the end of a list and returns it)\n",
    "- clear(is used to delete all the items present in a list and returns a empty list)\n",
    "8. Operations\n",
    "- addition(concatenation), multiplication, looping, membership operations\n",
    "9. Functions\n",
    "- len(), min(), max(), soretd(), sort()(permanent change), index(), etc"
   ]
  },
  {
   "cell_type": "code",
   "execution_count": null,
   "metadata": {},
   "outputs": [],
   "source": []
  }
 ],
 "metadata": {
  "kernelspec": {
   "display_name": "base",
   "language": "python",
   "name": "python3"
  },
  "language_info": {
   "codemirror_mode": {
    "name": "ipython",
    "version": 3
   },
   "file_extension": ".py",
   "mimetype": "text/x-python",
   "name": "python",
   "nbconvert_exporter": "python",
   "pygments_lexer": "ipython3",
   "version": "3.8.5"
  },
  "orig_nbformat": 4,
  "vscode": {
   "interpreter": {
    "hash": "4e916cca61208ccff5a7edd80f54a5ea50ab61b66c28695ad95eff70a45332af"
   }
  }
 },
 "nbformat": 4,
 "nbformat_minor": 2
}
