{
 "cells": [
  {
   "cell_type": "code",
   "execution_count": 1,
   "metadata": {},
   "outputs": [],
   "source": [
    "from IPython.core.interactiveshell import InteractiveShell\n",
    "InteractiveShell.ast_node_interactivity = \"all\""
   ]
  },
  {
   "cell_type": "markdown",
   "metadata": {},
   "source": [
    "# PRINT FUNCTION"
   ]
  },
  {
   "cell_type": "code",
   "execution_count": 2,
   "metadata": {},
   "outputs": [
    {
     "name": "stdout",
     "output_type": "stream",
     "text": [
      "INDIA PAKISTAN MYANMAR BHUTAN\n"
     ]
    }
   ],
   "source": [
    "print(\"INDIA\",\"PAKISTAN\",\"MYANMAR\",'BHUTAN')"
   ]
  },
  {
   "cell_type": "code",
   "execution_count": 3,
   "metadata": {},
   "outputs": [
    {
     "name": "stdout",
     "output_type": "stream",
     "text": [
      "INDIA-PAKISTAN-MYANMAR-BHUTAN\n"
     ]
    }
   ],
   "source": [
    "print(\"INDIA\",\"PAKISTAN\",\"MYANMAR\",'BHUTAN',sep=\"-\")"
   ]
  },
  {
   "cell_type": "code",
   "execution_count": 4,
   "metadata": {},
   "outputs": [
    {
     "name": "stdout",
     "output_type": "stream",
     "text": [
      "INDIA/PAKISTAN/MYANMAR/BHUTAN\n",
      "AJAO YE BHI DEKH LO\n"
     ]
    }
   ],
   "source": [
    "print(\"INDIA\",\"PAKISTAN\",\"MYANMAR\",'BHUTAN',sep=\"/\")\n",
    "print(\"AJAO YE BHI DEKH LO\")"
   ]
  },
  {
   "cell_type": "code",
   "execution_count": 5,
   "metadata": {},
   "outputs": [
    {
     "name": "stdout",
     "output_type": "stream",
     "text": [
      "INDIA/PAKISTAN/MYANMAR/BHUTAN AJAO YE BHI DEKH LO\n"
     ]
    }
   ],
   "source": [
    "print(\"INDIA\",\"PAKISTAN\",\"MYANMAR\",'BHUTAN',sep=\"/\",end=\" \")\n",
    "print(\"AJAO YE BHI DEKH LO\")"
   ]
  },
  {
   "cell_type": "markdown",
   "metadata": {},
   "source": [
    "# DATATYPES\n",
    "- Basic(integer, float, boolean, string and complex)\n",
    "- Containers(Lists, Tuples, Sets and Dictionary)\n",
    "- User defined(Class)  "
   ]
  },
  {
   "cell_type": "code",
   "execution_count": 6,
   "metadata": {},
   "outputs": [
    {
     "name": "stdout",
     "output_type": "stream",
     "text": [
      "5\n",
      "True\n",
      "4.5015\n",
      "(4+5j)\n",
      "Me\n",
      "Myself\n",
      "Mere wala self\n"
     ]
    }
   ],
   "source": [
    "# integer\n",
    "print(5)\n",
    "# bollean\n",
    "print(True)\n",
    "# float\n",
    "print(4.5015)\n",
    "# complex\n",
    "print(4+5j)\n",
    "# string\n",
    "print('Me')\n",
    "print(\"Myself\")\n",
    "print(\"\"\"Mere wala self\"\"\")"
   ]
  },
  {
   "cell_type": "code",
   "execution_count": 7,
   "metadata": {},
   "outputs": [
    {
     "name": "stdout",
     "output_type": "stream",
     "text": [
      "[1, 2, 3, 4, 5]\n",
      "(1, 2, 3, 4, 5)\n",
      "{1, 2, 3, 4, 5}\n",
      "{'Name': 'Abhishek', 'Age': 25, 'Gender': 'Male'}\n"
     ]
    }
   ],
   "source": [
    "# lists\n",
    "print([1,2,3,4,5])\n",
    "# tuples\n",
    "print((1,2,3,4,5))\n",
    "# sets\n",
    "print({1,2,3,5,4})\n",
    "# dictionary\n",
    "print({\n",
    "    \"Name\" : \"Abhishek\",\n",
    "    \"Age\" : 25,\n",
    "    \"Gender\" : \"Male\"\n",
    "})"
   ]
  },
  {
   "cell_type": "markdown",
   "metadata": {},
   "source": [
    "# COMMENTS\n",
    "- Single line Comments (#THIS IS MY NEW CODE)\n",
    "- Multi Line Comments   (---)"
   ]
  },
  {
   "cell_type": "markdown",
   "metadata": {},
   "source": [
    "# VARIABLES"
   ]
  },
  {
   "cell_type": "code",
   "execution_count": 8,
   "metadata": {},
   "outputs": [
    {
     "data": {
      "text/plain": [
       "'Abhishek'"
      ]
     },
     "execution_count": 8,
     "metadata": {},
     "output_type": "execute_result"
    }
   ],
   "source": [
    "name=\"Abhishek\"\n",
    "name"
   ]
  },
  {
   "cell_type": "markdown",
   "metadata": {},
   "source": [
    "- Dynamic Typing - It means directly defining a variable without specifing its datatype.\n",
    " (example - Python, PHP)\n",
    "- Static Typing - In this first we have to tell the datatype before defining  variable.\n",
    " (example - C, C++, Java) "
   ]
  },
  {
   "cell_type": "code",
   "execution_count": 9,
   "metadata": {},
   "outputs": [
    {
     "data": {
      "text/plain": [
       "5"
      ]
     },
     "execution_count": 9,
     "metadata": {},
     "output_type": "execute_result"
    }
   ],
   "source": [
    "a = 5\n",
    "a"
   ]
  },
  {
   "cell_type": "code",
   "execution_count": 10,
   "metadata": {},
   "outputs": [
    {
     "data": {
      "text/plain": [
       "'NAYA KAAM'"
      ]
     },
     "execution_count": 10,
     "metadata": {},
     "output_type": "execute_result"
    }
   ],
   "source": [
    "a = \"NAYA KAAM\"\n",
    "a"
   ]
  },
  {
   "cell_type": "code",
   "execution_count": 11,
   "metadata": {},
   "outputs": [
    {
     "data": {
      "text/plain": [
       "5.65"
      ]
     },
     "execution_count": 11,
     "metadata": {},
     "output_type": "execute_result"
    }
   ],
   "source": [
    "a = 5.65\n",
    "a"
   ]
  },
  {
   "cell_type": "markdown",
   "metadata": {},
   "source": [
    "- Dynamic Binding - Owerriting of variables irrespective of datatypes. (EXAMPLE- Python)\n",
    "- Static Binding - Owerriting of variables of a particular datatype. (EXAMPLE- C, C++, JAVA)"
   ]
  },
  {
   "cell_type": "code",
   "execution_count": 12,
   "metadata": {},
   "outputs": [
    {
     "name": "stdout",
     "output_type": "stream",
     "text": [
      "5\n",
      "6\n",
      "7\n"
     ]
    }
   ],
   "source": [
    "a=5;b=6;c=7\n",
    "print(a)\n",
    "print(b)\n",
    "print(c)"
   ]
  },
  {
   "cell_type": "code",
   "execution_count": 13,
   "metadata": {},
   "outputs": [
    {
     "name": "stdout",
     "output_type": "stream",
     "text": [
      "6\n",
      "7\n",
      "8\n"
     ]
    }
   ],
   "source": [
    "a,b,c=6,7,8\n",
    "print(a)\n",
    "print(b)\n",
    "print(c)"
   ]
  },
  {
   "cell_type": "code",
   "execution_count": 14,
   "metadata": {},
   "outputs": [
    {
     "name": "stdout",
     "output_type": "stream",
     "text": [
      "6\n",
      "6\n",
      "6\n"
     ]
    }
   ],
   "source": [
    "a=b=c=6\n",
    "print(a)\n",
    "print(b)\n",
    "print(c)"
   ]
  },
  {
   "cell_type": "code",
   "execution_count": 15,
   "metadata": {},
   "outputs": [
    {
     "data": {
      "text/plain": [
       "8"
      ]
     },
     "execution_count": 15,
     "metadata": {},
     "output_type": "execute_result"
    },
    {
     "data": {
      "text/plain": [
       "9"
      ]
     },
     "execution_count": 15,
     "metadata": {},
     "output_type": "execute_result"
    },
    {
     "data": {
      "text/plain": [
       "2"
      ]
     },
     "execution_count": 15,
     "metadata": {},
     "output_type": "execute_result"
    }
   ],
   "source": [
    "a=8;b=9;c=2\n",
    "a\n",
    "b\n",
    "c"
   ]
  },
  {
   "cell_type": "markdown",
   "metadata": {},
   "source": [
    "# Keywords"
   ]
  },
  {
   "cell_type": "code",
   "execution_count": 16,
   "metadata": {},
   "outputs": [
    {
     "name": "stdout",
     "output_type": "stream",
     "text": [
      "['False', 'None', 'True', 'and', 'as', 'assert', 'async', 'await', 'break', 'class', 'continue', 'def', 'del', 'elif', 'else', 'except', 'finally', 'for', 'from', 'global', 'if', 'import', 'in', 'is', 'lambda', 'nonlocal', 'not', 'or', 'pass', 'raise', 'return', 'try', 'while', 'with', 'yield']\n",
      " \n",
      "35 total keywords.\n"
     ]
    }
   ],
   "source": [
    "from itertools import count\n",
    "import keyword\n",
    "print(keyword.kwlist)\n",
    "print(\" \")\n",
    "print(len(keyword.kwlist), \"total keywords.\")"
   ]
  },
  {
   "cell_type": "markdown",
   "metadata": {},
   "source": [
    "# Identifiers"
   ]
  },
  {
   "cell_type": "markdown",
   "metadata": {},
   "source": [
    "- 1 Start with alphabet or _\n",
    "- 2 Never starts with numbers\n",
    "- 3 Contain numbers but not start with it\n",
    "- 4 keywords cannot be used for identifiers"
   ]
  },
  {
   "cell_type": "markdown",
   "metadata": {},
   "source": [
    "# Taking User Input and Type Conversion"
   ]
  },
  {
   "cell_type": "code",
   "execution_count": 17,
   "metadata": {},
   "outputs": [
    {
     "data": {
      "text/plain": [
       "'6'"
      ]
     },
     "execution_count": 17,
     "metadata": {},
     "output_type": "execute_result"
    }
   ],
   "source": [
    "input() # Always Takes input in string format"
   ]
  },
  {
   "cell_type": "code",
   "execution_count": 18,
   "metadata": {},
   "outputs": [
    {
     "name": "stdout",
     "output_type": "stream",
     "text": [
      "25 <class 'str'>\n",
      "38 <class 'str'>\n",
      "2538 <class 'str'>\n"
     ]
    }
   ],
   "source": [
    "from distutils.command.build_scripts import first_line_re\n",
    "\n",
    "\n",
    "firts_num = input(\"Enter the first number\")\n",
    "second_num = input(\"Enter the second number\")\n",
    "sum = firts_num + second_num\n",
    "print(firts_num, type(firts_num))\n",
    "print(second_num, type(second_num))\n",
    "print(sum, type(sum))"
   ]
  },
  {
   "cell_type": "code",
   "execution_count": 19,
   "metadata": {},
   "outputs": [
    {
     "name": "stdout",
     "output_type": "stream",
     "text": [
      "21 <class 'int'>\n",
      "63 <class 'int'>\n",
      "84 <class 'int'>\n"
     ]
    }
   ],
   "source": [
    "firts_num = int(input(\"Enter the first number\"))\n",
    "second_num = int(input(\"Enter the second number\"))\n",
    "sum = firts_num + second_num\n",
    "print(firts_num, type(firts_num))\n",
    "print(second_num, type(second_num))\n",
    "print(sum, type(sum))"
   ]
  },
  {
   "cell_type": "code",
   "execution_count": 20,
   "metadata": {},
   "outputs": [
    {
     "name": "stdout",
     "output_type": "stream",
     "text": [
      "DATATYPE <class 'int'>\n",
      "DATATYPE <class 'float'>\n",
      "DATATYPE <class 'str'>\n",
      "DATATYPE <class 'bool'>\n",
      "DATATYPE <class 'complex'>\n"
     ]
    }
   ],
   "source": [
    "print(\"DATATYPE\", type(45))\n",
    "print(\"DATATYPE\", type(45.5))\n",
    "print(\"DATATYPE\", type('45'))\n",
    "print(\"DATATYPE\", type(True))\n",
    "print(\"DATATYPE\", type(4+9j))"
   ]
  },
  {
   "cell_type": "markdown",
   "metadata": {},
   "source": [
    "## Types of TypeConversion\n",
    "\n",
    "- implicit\n",
    "- explicit"
   ]
  },
  {
   "cell_type": "code",
   "execution_count": 21,
   "metadata": {},
   "outputs": [
    {
     "data": {
      "text/plain": [
       "89.9"
      ]
     },
     "execution_count": 21,
     "metadata": {},
     "output_type": "execute_result"
    },
    {
     "data": {
      "text/plain": [
       "(17+5j)"
      ]
     },
     "execution_count": 21,
     "metadata": {},
     "output_type": "execute_result"
    },
    {
     "data": {
      "text/plain": [
       "(7.79+8j)"
      ]
     },
     "execution_count": 21,
     "metadata": {},
     "output_type": "execute_result"
    }
   ],
   "source": [
    "4+85.9 # Here python will automatically add integer + float datatype and \n",
    "       # the end result is float which is done implicity by python\n",
    "8 + 9+5j\n",
    "7.24 + 0.55 + 0+8j"
   ]
  },
  {
   "cell_type": "code",
   "execution_count": 22,
   "metadata": {},
   "outputs": [
    {
     "data": {
      "text/plain": [
       "4"
      ]
     },
     "execution_count": 22,
     "metadata": {},
     "output_type": "execute_result"
    },
    {
     "data": {
      "text/plain": [
       "6.0"
      ]
     },
     "execution_count": 22,
     "metadata": {},
     "output_type": "execute_result"
    },
    {
     "data": {
      "text/plain": [
       "'45'"
      ]
     },
     "execution_count": 22,
     "metadata": {},
     "output_type": "execute_result"
    },
    {
     "data": {
      "text/plain": [
       "True"
      ]
     },
     "execution_count": 22,
     "metadata": {},
     "output_type": "execute_result"
    },
    {
     "data": {
      "text/plain": [
       "(1.98+0j)"
      ]
     },
     "execution_count": 22,
     "metadata": {},
     "output_type": "execute_result"
    },
    {
     "data": {
      "text/plain": [
       "['H', 'e', 'l', 'l', 'o', ' ', 'W', 'o', 'r', 'l', 'd']"
      ]
     },
     "execution_count": 22,
     "metadata": {},
     "output_type": "execute_result"
    },
    {
     "data": {
      "text/plain": [
       "{' ', '2', '4', '6', '8', 'H', 'W', 'd', 'e', 'l', 'o', 'r'}"
      ]
     },
     "execution_count": 22,
     "metadata": {},
     "output_type": "execute_result"
    },
    {
     "data": {
      "text/plain": [
       "('1',\n",
       " ',',\n",
       " '2',\n",
       " ',',\n",
       " '5',\n",
       " ',',\n",
       " '9',\n",
       " ',',\n",
       " \"'\",\n",
       " 'h',\n",
       " 'g',\n",
       " \"'\",\n",
       " ',',\n",
       " \"'\",\n",
       " 'p',\n",
       " 'j',\n",
       " 'h',\n",
       " \"'\")"
      ]
     },
     "execution_count": 22,
     "metadata": {},
     "output_type": "execute_result"
    }
   ],
   "source": [
    "int(4.5) # Here we converting float datatype into integer datatype explicitly\n",
    "float(6) # Here we converting int datatype into float datatype explicitly\n",
    "str(45) # Here we converting int datatype into str datatype explicitly\n",
    "bool(998) # Here we converting int datatype into boolean datatype explicitly\n",
    "complex(1.98) # Here we converting float datatype into complex datatype explicitly\n",
    "list(\"Hello World\") # Here we converting string datatype list integer datatype explicitly\n",
    "set(\"Hello World 2 4 6 8\") # Here we converting string datatype into set datatype explicitly\n",
    "tuple(\"1,2,5,9,'hg','pjh'\") # Here we converting mix datatype into tuple datatype explicitly"
   ]
  },
  {
   "cell_type": "code",
   "execution_count": 23,
   "metadata": {},
   "outputs": [
    {
     "data": {
      "text/plain": [
       "45.0"
      ]
     },
     "execution_count": 23,
     "metadata": {},
     "output_type": "execute_result"
    },
    {
     "data": {
      "text/plain": [
       "45"
      ]
     },
     "execution_count": 23,
     "metadata": {},
     "output_type": "execute_result"
    }
   ],
   "source": [
    "a=45\n",
    "float(a)\n",
    "a # Type Conversion is not a permanent operation"
   ]
  },
  {
   "cell_type": "markdown",
   "metadata": {},
   "source": [
    "# NOTE: Type Conversion AND Type Casting are two different things do not mix them together\n",
    "- *********Type converion is not permanent but Type casting is permanent operation*********"
   ]
  },
  {
   "cell_type": "code",
   "execution_count": 25,
   "metadata": {},
   "outputs": [
    {
     "data": {
      "text/plain": [
       "[1, 2, 3, 4, 'as', 'a', 'matter']"
      ]
     },
     "execution_count": 25,
     "metadata": {},
     "output_type": "execute_result"
    },
    {
     "data": {
      "text/plain": [
       "(1, 2, 3, 4, 'as', 'a', 'matter')"
      ]
     },
     "execution_count": 25,
     "metadata": {},
     "output_type": "execute_result"
    },
    {
     "data": {
      "text/plain": [
       "{1, 2, 3, 4, 'a', 'as', 'matter'}"
      ]
     },
     "execution_count": 25,
     "metadata": {},
     "output_type": "execute_result"
    }
   ],
   "source": [
    "a=[1,2,3,4,'as','a','matter']\n",
    "a\n",
    "b=(1,2,3,4,'as','a','matter')\n",
    "b\n",
    "c={1,2,3,4,'as','a','matter'}\n",
    "c"
   ]
  },
  {
   "cell_type": "markdown",
   "metadata": {},
   "source": [
    "# Literals\n",
    "    Literal is a raw data given in a variable. In Python there are several types of literals. \n",
    "- Numeric Literals\n",
    "- String Literals\n",
    "- Bolllean Literals\n",
    "- Special Literals"
   ]
  },
  {
   "cell_type": "markdown",
   "metadata": {},
   "source": [
    "### 1. Numeric Literals"
   ]
  },
  {
   "cell_type": "code",
   "execution_count": 33,
   "metadata": {},
   "outputs": [
    {
     "name": "stdout",
     "output_type": "stream",
     "text": [
      "21 100 330 822\n",
      "1.25 125000000.0 0.0125\n",
      "(2+38j) 38.0 2.0\n"
     ]
    }
   ],
   "source": [
    "a = 0b010101 # Binary Numeric Literal\n",
    "b = 100 # Decimal Numeric Literal\n",
    "c = 0o512 # Octal Numeric Literal\n",
    "d = 0x336 # Hexadecimal Numeric Literal\n",
    "\n",
    "# Float Literal\n",
    "float_1 = 1.25\n",
    "float_2 = 1.25e+8\n",
    "float_3 = 1.25e-2\n",
    "\n",
    "# Complex Literal\n",
    "compl = 2+38j\n",
    "\n",
    "print(a,b,c,d)\n",
    "print(float_1,float_2,float_3)\n",
    "print(compl,compl.imag,compl.real)"
   ]
  },
  {
   "cell_type": "code",
   "execution_count": null,
   "metadata": {},
   "outputs": [],
   "source": []
  }
 ],
 "metadata": {
  "kernelspec": {
   "display_name": "Python 3.7.8 64-bit",
   "language": "python",
   "name": "python3"
  },
  "language_info": {
   "codemirror_mode": {
    "name": "ipython",
    "version": 3
   },
   "file_extension": ".py",
   "mimetype": "text/x-python",
   "name": "python",
   "nbconvert_exporter": "python",
   "pygments_lexer": "ipython3",
   "version": "3.7.8"
  },
  "orig_nbformat": 4,
  "vscode": {
   "interpreter": {
    "hash": "6aceaad34294401f5a75a48abb14c5b400936aba7742d71166d2dc074c13b148"
   }
  }
 },
 "nbformat": 4,
 "nbformat_minor": 2
}
